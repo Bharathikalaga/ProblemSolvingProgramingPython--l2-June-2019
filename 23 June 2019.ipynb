{
 "cells": [
  {
   "cell_type": "code",
   "execution_count": 1,
   "metadata": {},
   "outputs": [
    {
     "name": "stdout",
     "output_type": "stream",
     "text": [
      "hiii jaffa\n",
      "hello python\n",
      "wecome to python problem solving \n"
     ]
    }
   ],
   "source": [
    "# Read a file- File should exist\n",
    "# write to a file - existing or new file\n",
    "def readFile(filepath):\n",
    "    with open(filepath,'r') as f:  ## we storing as a varible f\n",
    "        filedata=f.read()\n",
    "        #print(type(filedata))\n",
    "    return filedata\n",
    "filepath='Datafiles/data.txt'\n",
    "print(readFile(filepath))"
   ]
  },
  {
   "cell_type": "code",
   "execution_count": 2,
   "metadata": {},
   "outputs": [
    {
     "data": {
      "text/plain": [
       "['hiii', 'jaffa', 'hello', 'python', 'wecome', 'to', 'problem', 'solving']"
      ]
     },
     "execution_count": 2,
     "metadata": {},
     "output_type": "execute_result"
    }
   ],
   "source": [
    "# Unique Word Count\n",
    "def uniqueWord(filepath):\n",
    "    count=0\n",
    "    u=[]\n",
    "    uniqueword=readFile(filepath)\n",
    "    word=uniqueword.split()\n",
    "    for  item in word:\n",
    "        if item not in u:\n",
    "            u.append(item)\n",
    "    return u\n",
    "filepath='Datafiles/data.txt'\n",
    "uniqueWord(filepath)"
   ]
  },
  {
   "cell_type": "code",
   "execution_count": 3,
   "metadata": {},
   "outputs": [
    {
     "data": {
      "text/plain": [
       "8"
      ]
     },
     "execution_count": 3,
     "metadata": {},
     "output_type": "execute_result"
    }
   ],
   "source": [
    "# Unique Word length\n",
    "def uniqueWordCount(filepath):\n",
    "    count=0\n",
    "    u=[]\n",
    "    uniqueword=readFile(filepath)\n",
    "    word=uniqueword.split()\n",
    "    for  item in word:\n",
    "        if item not in u:\n",
    "            u.append(item)\n",
    "    return len(u)\n",
    "filepath='Datafiles/data.txt'\n",
    "uniqueWordCount(filepath)"
   ]
  },
  {
   "cell_type": "code",
   "execution_count": 4,
   "metadata": {},
   "outputs": [
    {
     "data": {
      "text/plain": [
       "{'python': 2,\n",
       " 'wecome': 1,\n",
       " 'hiii': 1,\n",
       " 'problem': 1,\n",
       " 'to': 1,\n",
       " 'hello': 1,\n",
       " 'jaffa': 1,\n",
       " 'solving': 1}"
      ]
     },
     "execution_count": 4,
     "metadata": {},
     "output_type": "execute_result"
    }
   ],
   "source": [
    "# frequency \n",
    "def uniqueWordCount(filepath):\n",
    "    d={}\n",
    "    uniqueword=readFile(filepath)\n",
    "    word=set(uniqueword.split())    \n",
    "    for i in word:\n",
    "        d[i]=uniqueword.count(i)\n",
    "    return d\n",
    "filepath='Datafiles/data.txt'\n",
    "uniqueWordCount(filepath)"
   ]
  },
  {
   "cell_type": "code",
   "execution_count": null,
   "metadata": {},
   "outputs": [],
   "source": [
    "def FrequencyDistributionWords(filepath):\n",
    "    # dictionary to be used\n",
    "    # keys-->unique words\n",
    "    # values ->count of unoque words\n",
    "# Two lists\n",
    "\n",
    "\n",
    "\n",
    "\n"
   ]
  },
  {
   "cell_type": "code",
   "execution_count": 5,
   "metadata": {},
   "outputs": [
    {
     "name": "stdout",
     "output_type": "stream",
     "text": [
      "hiii jaffa\n",
      "hello python\n",
      "wecome to python problem solving \n",
      "9\n"
     ]
    }
   ],
   "source": [
    "def wordCount(filepath):\n",
    "    word=readFile(filepath)\n",
    "    print(word)\n",
    "    print(len(word.split()))   \n",
    "wordCount(filepath)"
   ]
  },
  {
   "cell_type": "code",
   "execution_count": null,
   "metadata": {},
   "outputs": [],
   "source": [
    "n=input()\n",
    "total=0\n",
    "for i in n:\n",
    "    total+=int(i)\n",
    "print(total)"
   ]
  },
  {
   "cell_type": "code",
   "execution_count": 14,
   "metadata": {},
   "outputs": [
    {
     "name": "stdout",
     "output_type": "stream",
     "text": [
      "154241bhgd\n",
      "0 2 1 0 2 1 0 0 0 0 "
     ]
    }
   ],
   "source": [
    "n=input()\n",
    "for i in range(0,10):\n",
    "    print(n.count(str(i)),end=\" \")"
   ]
  },
  {
   "cell_type": "code",
   "execution_count": 21,
   "metadata": {},
   "outputs": [
    {
     "name": "stdout",
     "output_type": "stream",
     "text": [
      "jhytyu5467hg223bxvch12352143\n",
      "bxvch12352143\n",
      "['b', 'x', 'v', 'c', 'h', '1', '2', '3', '5', '2', '1', '4', '3']\n",
      "0 2 2 2 1 1 0 0 0 0 "
     ]
    }
   ],
   "source": [
    "def freq(n):\n",
    "    print(n)\n",
    "    l=[]\n",
    "    for i in n:\n",
    "        l.append(i)\n",
    "    print(l)\n",
    "    for j in range(0,10):\n",
    "        print(l.count(str(j)),end=\" \") \n",
    "            \n",
    "n=input(n)\n",
    "freq(n)"
   ]
  },
  {
   "cell_type": "code",
   "execution_count": 5,
   "metadata": {},
   "outputs": [
    {
     "name": "stdout",
     "output_type": "stream",
     "text": [
      "emsndkjh123iosnb\n",
      "0 1 1 1 0 "
     ]
    }
   ],
   "source": [
    "# a,e,i,o,u count:\n",
    "def ovelsCount(data):\n",
    "    for ovel in \"aeiou\":\n",
    "        print(data.count(str(ovel)),end=\" \")\n",
    "    \n",
    "    \n",
    "    \n",
    "    \n",
    "data=input()\n",
    "ovelsCount(data)"
   ]
  },
  {
   "cell_type": "code",
   "execution_count": 7,
   "metadata": {},
   "outputs": [
    {
     "name": "stdout",
     "output_type": "stream",
     "text": [
      "fdsfds21312fd\n",
      "{'f': 3, 'd': 3, 's': 2, '2': 2, '1': 2, '3': 1}\n"
     ]
    }
   ],
   "source": [
    "def chardigitCount(sn):\n",
    "    d={}\n",
    "    for data in s:\n",
    "        d[data]=s.count(data)\n",
    "        print(d)  \n",
    "s=input()\n",
    "chardigitCount(s)"
   ]
  },
  {
   "cell_type": "code",
   "execution_count": 3,
   "metadata": {},
   "outputs": [],
   "source": [
    "t={}\n",
    "t[8]=90"
   ]
  },
  {
   "cell_type": "code",
   "execution_count": 4,
   "metadata": {},
   "outputs": [
    {
     "data": {
      "text/plain": [
       "{8: 90}"
      ]
     },
     "execution_count": 4,
     "metadata": {},
     "output_type": "execute_result"
    }
   ],
   "source": [
    "t"
   ]
  },
  {
   "cell_type": "code",
   "execution_count": null,
   "metadata": {},
   "outputs": [],
   "source": []
  }
 ],
 "metadata": {
  "kernelspec": {
   "display_name": "Python 3",
   "language": "python",
   "name": "python3"
  },
  "language_info": {
   "codemirror_mode": {
    "name": "ipython",
    "version": 3
   },
   "file_extension": ".py",
   "mimetype": "text/x-python",
   "name": "python",
   "nbconvert_exporter": "python",
   "pygments_lexer": "ipython3",
   "version": "3.7.3"
  }
 },
 "nbformat": 4,
 "nbformat_minor": 2
}
