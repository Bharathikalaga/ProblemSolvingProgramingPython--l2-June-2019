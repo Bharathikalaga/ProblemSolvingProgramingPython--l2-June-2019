{
 "cells": [
  {
   "cell_type": "markdown",
   "metadata": {},
   "source": [
    "## Tasks:"
   ]
  },
  {
   "cell_type": "code",
   "execution_count": 1,
   "metadata": {},
   "outputs": [
    {
     "name": "stdout",
     "output_type": "stream",
     "text": [
      "89\n",
      "2 3 5 7 11 13 17 19 23 29 31 37 41 43 47 53 59 61 67 71 73 79 83 "
     ]
    }
   ],
   "source": [
    "#Print the prime numbers up to the range\n",
    "def isPrime(n):\n",
    "    f=True\n",
    "    for i in range (2,n):\n",
    "        if n%i==0:\n",
    "            return False\n",
    "    return f\n",
    "def printPrime(n):\n",
    "    for i in range(2,n):\n",
    "        if isPrime(i):\n",
    "            print(i,end=\" \")\n",
    "n=int(input())\n",
    "printPrime(n)"
   ]
  },
  {
   "cell_type": "code",
   "execution_count": 2,
   "metadata": {},
   "outputs": [
    {
     "name": "stdout",
     "output_type": "stream",
     "text": [
      "bsb\n",
      "YES\n"
     ]
    }
   ],
   "source": [
    "#You have been given a String S. You need to find and print whether this string is a palindrome or not. If yes, print \"YES\" (without quotes), else print \"NO\" (without quotes).\n",
    "\n",
    "def isPalindrome(S):\n",
    "    for i in (str(len(S))):\n",
    "        if S[::-1]==S[0::]:\n",
    "            return\"YES\"\n",
    "    return \"NO\"\n",
    "S=str(input())\n",
    "print(isPalindrome(S))"
   ]
  },
  {
   "cell_type": "code",
   "execution_count": 9,
   "metadata": {},
   "outputs": [
    {
     "name": "stdout",
     "output_type": "stream",
     "text": [
      "2 3 8\n",
      "0\n"
     ]
    }
   ],
   "source": [
    "# You have been given 3 integers - l, r and k. Find how many numbers between l and r (both inclusive) are divisible by k. You do not need to print these numbers, you just have to find their count.\n",
    "\n",
    "def countDevisors(l,r,k):\n",
    "    count=0\n",
    "    for i in range (l,r+1):\n",
    "        if i%k==0:\n",
    "            count=count+1\n",
    "    return count\n",
    "#countDevisors(l,r,k)\n",
    "s=input()\n",
    "s=s.split()\n",
    "l=int(s[0])\n",
    "r=int(s[1])\n",
    "k=int(s[2])\n",
    "print(countDevisors(l,r,k))"
   ]
  },
  {
   "cell_type": "code",
   "execution_count": 8,
   "metadata": {},
   "outputs": [
    {
     "name": "stdout",
     "output_type": "stream",
     "text": [
      "5\n",
      "120\n"
     ]
    }
   ],
   "source": [
    "# You have been given a positive integer N. You need to find and print the Factorial of this number. The Factorial of a positive integer N refers to the product of all number in the range from 1 to N. You can read more about the factorial of a number here.\n",
    "\n",
    "def factorial(n):\n",
    "    s=1\n",
    "    for i in range(1,n+1):\n",
    "        s=s*i\n",
    "    return s\n",
    "n=int(input())\n",
    "print(factorial(n))"
   ]
  },
  {
   "cell_type": "code",
   "execution_count": 50,
   "metadata": {},
   "outputs": [
    {
     "name": "stdout",
     "output_type": "stream",
     "text": [
      "abcDhv\n",
      "ABCdHV\n"
     ]
    }
   ],
   "source": [
    "# You have been given a String S consisting of uppercase and lowercase English alphabets. You need to change the case of each alphabet in this String. That is, all the uppercase letters should be converted to lowercase and all the lowercase letters should be converted to uppercase. You need to then print the resultant String to output.\n",
    "\n",
    "def upper(S):\n",
    "    return S.swapcase()\n",
    "\n",
    "S=input()\n",
    "print(upper(S))"
   ]
  },
  {
   "cell_type": "code",
   "execution_count": null,
   "metadata": {},
   "outputs": [],
   "source": [
    "# Given two strings of equal length, you have to tell whether they both strings are identical.\n",
    "\n",
    "#Two strings S1 and S2 are said to be identical, if any of the permutation of string S1 is equal to the string S2. See Sample explanation for more details.\n",
    "def twoStrings(S1,S2):\n",
    "    S1=sorted(S1)\n",
    "    S2=sorted(S2)\n",
    "    if S1==S2:\n",
    "        return \"YES\"\n",
    "    return \"NO\"\n",
    "# input test cases\n",
    "n=int(input())\n",
    "for i in range (n):\n",
    "    strings =input().split()\n",
    "    S1=strings[0]\n",
    "    S2=strings[1]\n",
    "    print(twoStrings(S1,S2))"
   ]
  },
  {
   "cell_type": "code",
   "execution_count": null,
   "metadata": {},
   "outputs": [],
   "source": [
    "'''The book has a special ISBN(International Standard Book Number) which is  unique numeric book identifier only for Voldemort's book printed on it. The ISBN is based upon a 10-digit code. The ISBN is valid if:\n",
    "1xdigit1 + 2xdigit2 + 3xdigit3 + 4xdigit4 + 5xdigit5 + 6xdigit6 + 7xdigit7 + 8xdigit8 + 9xdigit9 + 10xdigit10 is divisible by 11.\n",
    "'''\n",
    "def findBookOfPotionMaking(s):\n",
    "    summ=0\n",
    "    i=1\n",
    "    for cr in s:\n",
    "        value=int(cr)*i\n",
    "        summ += value\n",
    "        i+=1\n",
    "    if summ%11==0:\n",
    "        print(\"Legal ISBN\")\n",
    "    else:\n",
    "        print(\"Illegal ISBN\")\n",
    "s=input()\n",
    "findBookOfPotionMaking(s)"
   ]
  },
  {
   "cell_type": "code",
   "execution_count": null,
   "metadata": {},
   "outputs": [],
   "source": [
    "'''Consider All lowercase Alphabets of the English language. Here we consider each alphabet from a to z to have a certain weight. The weight of the alphabet a is considered to be 1, b to be 2, c to be 3 and so on until z has a weight of 26. In short, the weight of the alphabet a is 1, and the weight of all other alphabets is the weight of its previous alphabet + 1'''\n",
    "def characterSum(s):\n",
    "    s.split()\n",
    "    total=0\n",
    "    l=[]\n",
    "    for i in s:\n",
    "        l.append(i)\n",
    "    for j in l:\n",
    "        total=ord(j)-96+total\n",
    "    print(total) \n",
    "s=input(str())\n",
    "characterSum(s)"
   ]
  },
  {
   "cell_type": "code",
   "execution_count": 2,
   "metadata": {},
   "outputs": [
    {
     "name": "stdout",
     "output_type": "stream",
     "text": [
      "1\n",
      "1 44 2 44\n",
      "1 120\n"
     ]
    }
   ],
   "source": [
    "##Duration\n",
    "def durationOfWork(sh,sm,eh,em):\n",
    "    a=sh+1\n",
    "    b=60-sm\n",
    "    c=0+em\n",
    "    if (a==eh and (b+c)<60):\n",
    "        print(0,b+c)\n",
    "    elif a==eh and (b+c)>60:\n",
    "        print(1,(b+c)-60)\n",
    "    else:\n",
    "        if (b+c)<60:\n",
    "            print(eh-a,b+c)\n",
    "        else:\n",
    "            print((eh-a)+1,(b+c)+60)\n",
    "                   \n",
    "N=int(input())\n",
    "for i in range (N):\n",
    "    h=input().split() # 2 44 3 44\n",
    "    sh=int(h[0])\n",
    "    sm=int(h[1])\n",
    "    eh=int(h[2])\n",
    "    em=int(h[3])\n",
    "    durationOfWork(sh,sm,eh,em)"
   ]
  },
  {
   "cell_type": "code",
   "execution_count": null,
   "metadata": {},
   "outputs": [],
   "source": [
    "def royPicture(L,W,H):\n",
    "    \n",
    "    if W<L and H<L:\n",
    "        return \"UPLOAD ANOTHER\"\n",
    "    else:\n",
    "        if(W>L and H>L) and (W==H):\n",
    "            return \"ACCEPTED\"\n",
    "        else:\n",
    "            if W==L and H==L:\n",
    "        return \"CROP IT\"\n",
    "\n",
    "L=int(input())\n",
    "T=input()\n",
    "for i in range(int(T)):\n",
    "    WH=input().split()\n",
    "    W=int(WH[0])\n",
    "    H=int(WH[1])\n",
    "    print(royPicture(L,W,H))"
   ]
  },
  {
   "cell_type": "code",
   "execution_count": 22,
   "metadata": {},
   "outputs": [
    {
     "name": "stdout",
     "output_type": "stream",
     "text": [
      "2\n",
      "6\n",
      "YES\n",
      "7\n",
      "NO\n"
     ]
    }
   ],
   "source": [
    "def perfectnum(n):\n",
    "    sum=0\n",
    "    for i in range(1,n):\n",
    "        if n%i==0:\n",
    "            sum=sum+i\n",
    "    #return sum\n",
    "    if sum==n:\n",
    "        return \"YES\"\n",
    "    else:\n",
    "        return \"NO\"\n",
    "t=int(input())\n",
    "for i in range(t):\n",
    "    n=int(input())\n",
    "    #print(perfectnum(n))\n",
    "    print(perfectnum(n))\n",
    "    "
   ]
  },
  {
   "cell_type": "code",
   "execution_count": 6,
   "metadata": {},
   "outputs": [
    {
     "name": "stdout",
     "output_type": "stream",
     "text": [
      "2\n",
      "6\n",
      "4\n",
      "8\n",
      "5\n"
     ]
    }
   ],
   "source": [
    "def highestRem(n):\n",
    "    list=[]\n",
    "    remList=[]\n",
    "    for j in range(2,n):\n",
    "        rem=n%j\n",
    "        remList.append(rem)\n",
    "        list.append(j)\n",
    "    index=remList.index(max(remList))\n",
    "    return list[index]\n",
    "t=int(input())\n",
    "for i in range(t):\n",
    "    n=int(input())\n",
    "    print(highestRem(n))"
   ]
  },
  {
   "cell_type": "code",
   "execution_count": null,
   "metadata": {},
   "outputs": [],
   "source": []
  },
  {
   "cell_type": "code",
   "execution_count": 3,
   "metadata": {},
   "outputs": [
    {
     "name": "stdout",
     "output_type": "stream",
     "text": [
      "3\n",
      "sdg344#\n",
      "(3, 3, 1)\n",
      "hgf7658#$%^\n",
      "(4, 3, 4)\n",
      "fjgtku3467%\n",
      "(4, 6, 1)\n"
     ]
    }
   ],
   "source": [
    "def count(s):\n",
    "    count=0\n",
    "    count1=0\n",
    "    count2=0\n",
    "    for i in s:\n",
    "        if i.isdigit():\n",
    "            count=count+1\n",
    "            #return count\n",
    "        elif i.isalpha():\n",
    "            count1=count1+1\n",
    "            #return count1\n",
    "    #count2=count1+count\n",
    "        else:\n",
    "            count2=count2+1\n",
    "    return (count,count1,count2)\n",
    "#t=int(input())\n",
    "#for i in range(t):\n",
    "s=input()\n",
    "print(count(s))\n",
    "    "
   ]
  },
  {
   "cell_type": "code",
   "execution_count": 2,
   "metadata": {},
   "outputs": [
    {
     "name": "stdout",
     "output_type": "stream",
     "text": [
      "2\n",
      "6\n",
      "1\n",
      "No\n",
      "6\n",
      "Yes\n",
      "24\n",
      "Yes\n",
      "9\n",
      "No\n",
      "4\n",
      "No\n",
      "5\n",
      "No\n"
     ]
    }
   ],
   "source": [
    "def isPrime(n):\n",
    "    f=True\n",
    "    for i in range (2,n):\n",
    "        if n%i==0:\n",
    "            return False\n",
    "    return f\n",
    "def dictinicPrimeFactors(n):\n",
    "    count=0\n",
    "    for v in range(2,n):\n",
    "        if n%v==0 and isPrime(v):\n",
    "            count=count+1\n",
    "    if count>=p:\n",
    "        return\"Yes\"\n",
    "    else:\n",
    "        return\"No\"     \n",
    "\n",
    "\n",
    "p=int(input()) #distinict prime factors\n",
    "t=int(input())  # no.of test cases\n",
    "for i in range (t):\n",
    "    n=int(input())\n",
    "    print(dictinicPrimeFactors(n))\n",
    "\n"
   ]
  },
  {
   "cell_type": "code",
   "execution_count": 15,
   "metadata": {},
   "outputs": [
    {
     "name": "stdout",
     "output_type": "stream",
     "text": [
      "11 3\n"
     ]
    }
   ],
   "source": [
    "x=\"mndbj12r165@@@\"  # isallnum -->it prints the all digits and alphabetics count\n",
    "count=0\n",
    "count1=0\n",
    "for i in x:\n",
    "    if i.isalnum():\n",
    "        count=count+1\n",
    "        #print(count)\n",
    "    else:\n",
    "        count1=count1+1\n",
    "        #print(count1)\n",
    "print(count,count1)\n",
    "\n"
   ]
  },
  {
   "cell_type": "code",
   "execution_count": 24,
   "metadata": {},
   "outputs": [
    {
     "name": "stdout",
     "output_type": "stream",
     "text": [
      "true\n",
      "true\n",
      "true\n",
      "true\n"
     ]
    }
   ],
   "source": [
    "x=\"tdbd\"\n",
    "'''\n",
    "if x.islower():  # .islower is for checking the lower characters in the string\n",
    "    print(\"True\")\n",
    "else:\n",
    "    print(\"false\")'''\n",
    "for i in x:\n",
    "    if i.islower():\n",
    "        print(\"true\")\n",
    "    else:\n",
    "        print(\"false\")\n",
    "    \n",
    "    \n",
    "    "
   ]
  },
  {
   "cell_type": "code",
   "execution_count": 33,
   "metadata": {},
   "outputs": [
    {
     "name": "stdout",
     "output_type": "stream",
     "text": [
      "alphabet\n",
      "alphabet\n",
      "alphabet\n",
      "Space\n",
      "numeric\n",
      "numeric\n",
      "numeric\n",
      "special symbol\n",
      "alphabet\n"
     ]
    }
   ],
   "source": [
    "x=\"tdb 123@d\"\n",
    "for i in x:\n",
    "    if i.isalpha():\n",
    "        print(\"alphabet\")\n",
    "    elif i.isdigit():\n",
    "        print(\"numeric\")\n",
    "    elif i.isspace():\n",
    "        print(\"Space\")\n",
    "    else:\n",
    "        print(\"special symbol\")\n"
   ]
  },
  {
   "cell_type": "code",
   "execution_count": 36,
   "metadata": {},
   "outputs": [
    {
     "name": "stdout",
     "output_type": "stream",
     "text": [
      "2\n"
     ]
    }
   ],
   "source": [
    "x=\"t db12 3@d\"\n",
    "coun=0\n",
    "for i in x:\n",
    "    if i.isspace():  # .isspace to count the spaces and prints the spaces count\n",
    "        coun+=1\n",
    "print(coun)\n",
    "    "
   ]
  },
  {
   "cell_type": "code",
   "execution_count": 44,
   "metadata": {},
   "outputs": [],
   "source": [
    "x=\"t db12 3@d\"\n",
    "coun=0\n",
    "for i in x:\n",
    "    if i.isspace():  # .isspace to count the spaces and prints the spaces count\n",
    "        coun+=1\n",
    "print(coun)"
   ]
  },
  {
   "cell_type": "code",
   "execution_count": 41,
   "metadata": {},
   "outputs": [
    {
     "data": {
      "text/plain": [
       "False"
      ]
     },
     "execution_count": 41,
     "metadata": {},
     "output_type": "execute_result"
    }
   ],
   "source": [
    "\"\".istitle()"
   ]
  },
  {
   "cell_type": "code",
   "execution_count": 49,
   "metadata": {},
   "outputs": [
    {
     "name": "stdout",
     "output_type": "stream",
     "text": [
      "Wings Of Fire\n"
     ]
    }
   ],
   "source": [
    "book=\"wings of fire\"\n",
    "print(book.title())\n"
   ]
  },
  {
   "cell_type": "code",
   "execution_count": 48,
   "metadata": {},
   "outputs": [
    {
     "data": {
      "text/plain": [
       "['__add__',\n",
       " '__class__',\n",
       " '__contains__',\n",
       " '__delattr__',\n",
       " '__dir__',\n",
       " '__doc__',\n",
       " '__eq__',\n",
       " '__format__',\n",
       " '__ge__',\n",
       " '__getattribute__',\n",
       " '__getitem__',\n",
       " '__getnewargs__',\n",
       " '__gt__',\n",
       " '__hash__',\n",
       " '__init__',\n",
       " '__init_subclass__',\n",
       " '__iter__',\n",
       " '__le__',\n",
       " '__len__',\n",
       " '__lt__',\n",
       " '__mod__',\n",
       " '__mul__',\n",
       " '__ne__',\n",
       " '__new__',\n",
       " '__reduce__',\n",
       " '__reduce_ex__',\n",
       " '__repr__',\n",
       " '__rmod__',\n",
       " '__rmul__',\n",
       " '__setattr__',\n",
       " '__sizeof__',\n",
       " '__str__',\n",
       " '__subclasshook__',\n",
       " 'capitalize',\n",
       " 'casefold',\n",
       " 'center',\n",
       " 'count',\n",
       " 'encode',\n",
       " 'endswith',\n",
       " 'expandtabs',\n",
       " 'find',\n",
       " 'format',\n",
       " 'format_map',\n",
       " 'index',\n",
       " 'isalnum',\n",
       " 'isalpha',\n",
       " 'isascii',\n",
       " 'isdecimal',\n",
       " 'isdigit',\n",
       " 'isidentifier',\n",
       " 'islower',\n",
       " 'isnumeric',\n",
       " 'isprintable',\n",
       " 'isspace',\n",
       " 'istitle',\n",
       " 'isupper',\n",
       " 'join',\n",
       " 'ljust',\n",
       " 'lower',\n",
       " 'lstrip',\n",
       " 'maketrans',\n",
       " 'partition',\n",
       " 'replace',\n",
       " 'rfind',\n",
       " 'rindex',\n",
       " 'rjust',\n",
       " 'rpartition',\n",
       " 'rsplit',\n",
       " 'rstrip',\n",
       " 'split',\n",
       " 'splitlines',\n",
       " 'startswith',\n",
       " 'strip',\n",
       " 'swapcase',\n",
       " 'title',\n",
       " 'translate',\n",
       " 'upper',\n",
       " 'zfill']"
      ]
     },
     "execution_count": 48,
     "metadata": {},
     "output_type": "execute_result"
    }
   ],
   "source": [
    "dir(str)"
   ]
  },
  {
   "cell_type": "code",
   "execution_count": null,
   "metadata": {},
   "outputs": [],
   "source": []
  }
 ],
 "metadata": {
  "kernelspec": {
   "display_name": "Python 3",
   "language": "python",
   "name": "python3"
  },
  "language_info": {
   "codemirror_mode": {
    "name": "ipython",
    "version": 3
   },
   "file_extension": ".py",
   "mimetype": "text/x-python",
   "name": "python",
   "nbconvert_exporter": "python",
   "pygments_lexer": "ipython3",
   "version": "3.7.3"
  }
 },
 "nbformat": 4,
 "nbformat_minor": 2
}
