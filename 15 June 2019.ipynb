{
 "cells": [
  {
   "cell_type": "markdown",
   "metadata": {},
   "source": [
    "## Tasks:"
   ]
  },
  {
   "cell_type": "code",
   "execution_count": null,
   "metadata": {},
   "outputs": [],
   "source": [
    "#Print the prime numbers up to the range\n",
    "def isPrime(n):\n",
    "    f=True\n",
    "    for i in range (2,n):\n",
    "        if n%i==0:\n",
    "            return False\n",
    "    return f\n",
    "def printPrime(n):\n",
    "    for i in range(2,n):\n",
    "        if isPrime(i):\n",
    "            print(i,end=\" \")\n",
    "n=int(input())\n",
    "printPrime(n)"
   ]
  },
  {
   "cell_type": "code",
   "execution_count": null,
   "metadata": {},
   "outputs": [],
   "source": [
    "#You have been given a String S. You need to find and print whether this string is a palindrome or not. If yes, print \"YES\" (without quotes), else print \"NO\" (without quotes).\n",
    "\n",
    "def isPalindrome(S):\n",
    "    for i in (str(len(S))):\n",
    "        if S[::-1]==S[0::]:\n",
    "            return\"YES\"\n",
    "    return \"NO\"\n",
    "S=str(input())\n",
    "print(isPalindrome(S))"
   ]
  },
  {
   "cell_type": "code",
   "execution_count": null,
   "metadata": {},
   "outputs": [],
   "source": [
    "# You have been given 3 integers - l, r and k. Find how many numbers between l and r (both inclusive) are divisible by k. You do not need to print these numbers, you just have to find their count.\n",
    "\n",
    "def countDevisors(l,r,k):\n",
    "    count=0\n",
    "    for i in range (l,r+1):\n",
    "        if i%k==0:\n",
    "            count=count+1\n",
    "    return count\n",
    "#countDevisors(l,r,k)\n",
    "s=input()\n",
    "s=s.split()\n",
    "l=int(s[0])\n",
    "r=int(s[1])\n",
    "k=int(s[2])\n",
    "print(countDevisors(l,r,k))"
   ]
  },
  {
   "cell_type": "code",
   "execution_count": null,
   "metadata": {},
   "outputs": [],
   "source": [
    "# You have been given a positive integer N. You need to find and print the Factorial of this number. The Factorial of a positive integer N refers to the product of all number in the range from 1 to N. You can read more about the factorial of a number here.\n",
    "\n",
    "def factorial(n):\n",
    "    s=1\n",
    "    for i in range(1,n+1):\n",
    "        s=s*i\n",
    "    return s\n",
    "n=int(input())\n",
    "print(factorial(n))"
   ]
  },
  {
   "cell_type": "code",
   "execution_count": null,
   "metadata": {},
   "outputs": [],
   "source": [
    "# You have been given a String S consisting of uppercase and lowercase English alphabets. You need to change the case of each alphabet in this String. That is, all the uppercase letters should be converted to lowercase and all the lowercase letters should be converted to uppercase. You need to then print the resultant String to output.\n",
    "\n",
    "def upper(S):\n",
    "    return S.swapcase()\n",
    "\n",
    "S=input()\n",
    "print(upper(S))"
   ]
  },
  {
   "cell_type": "code",
   "execution_count": null,
   "metadata": {},
   "outputs": [],
   "source": [
    "# Given two strings of equal length, you have to tell whether they both strings are identical.\n",
    "\n",
    "#Two strings S1 and S2 are said to be identical, if any of the permutation of string S1 is equal to the string S2. See Sample explanation for more details.\n",
    "def twoStrings(S1,S2):\n",
    "    S1=sorted(S1)\n",
    "    S2=sorted(S2)\n",
    "    if S1==S2:\n",
    "        return \"YES\"\n",
    "    return \"NO\"\n",
    "# input test cases\n",
    "n=int(input())\n",
    "for i in range (n):\n",
    "    strings =input().split()\n",
    "    S1=strings[0]\n",
    "    S2=strings[1]\n",
    "    print(twoStrings(S1,S2))"
   ]
  },
  {
   "cell_type": "code",
   "execution_count": null,
   "metadata": {},
   "outputs": [],
   "source": [
    "'''The book has a special ISBN(International Standard Book Number) which is  unique numeric book identifier only for Voldemort's book printed on it. The ISBN is based upon a 10-digit code. The ISBN is valid if:\n",
    "1xdigit1 + 2xdigit2 + 3xdigit3 + 4xdigit4 + 5xdigit5 + 6xdigit6 + 7xdigit7 + 8xdigit8 + 9xdigit9 + 10xdigit10 is divisible by 11.\n",
    "'''\n",
    "def findBookOfPotionMaking(s):\n",
    "    summ=0\n",
    "    i=1\n",
    "    for cr in s:\n",
    "        value=int(cr)*i\n",
    "        summ += value\n",
    "        i+=1\n",
    "    if summ%11==0:\n",
    "        print(\"Legal ISBN\")\n",
    "    else:\n",
    "        print(\"Illegal ISBN\")\n",
    "s=input()\n",
    "findBookOfPotionMaking(s)"
   ]
  },
  {
   "cell_type": "code",
   "execution_count": null,
   "metadata": {},
   "outputs": [],
   "source": [
    "'''Consider All lowercase Alphabets of the English language. Here we consider each alphabet from a to z to have a certain weight. The weight of the alphabet a is considered to be 1, b to be 2, c to be 3 and so on until z has a weight of 26. In short, the weight of the alphabet a is 1, and the weight of all other alphabets is the weight of its previous alphabet + 1'''\n",
    "def characterSum(s):\n",
    "    s.split()\n",
    "    total=0\n",
    "    l=[]\n",
    "    for i in s:\n",
    "        l.append(i)\n",
    "    for j in l:\n",
    "        total=ord(j)-96+total\n",
    "    print(total) \n",
    "s=input(str())\n",
    "characterSum(s)"
   ]
  },
  {
   "cell_type": "code",
   "execution_count": 6,
   "metadata": {},
   "outputs": [
    {
     "name": "stdout",
     "output_type": "stream",
     "text": [
      "2\n",
      "2 44 3 44\n",
      "3 55 7 45\n",
      "3 50\n"
     ]
    }
   ],
   "source": [
    "##Duration\n",
    "def durationOfWork(sh,sm,eh,em):\n",
    "    a=sh+1\n",
    "    b=60-sm\n",
    "    c=0+em\n",
    "    if (a==eh and (b+c)<60):\n",
    "        print(0,b+c)\n",
    "    elif a==eh and (b+c)>60:\n",
    "        print(1,(b+c)-60)\n",
    "    else:\n",
    "        if (b+c)<60:\n",
    "            print(eh-a,b+c)\n",
    "        else:\n",
    "            print((eh-a)+1,(b+c)+60)\n",
    "                   \n",
    "N=int(input())\n",
    "for i in range (N):\n",
    "    h=input().split() # 2 44 3 44\n",
    "    sh=int(h[0])\n",
    "    sm=int(h[1])\n",
    "    eh=int(h[2])\n",
    "    em=int(h[3])\n",
    "durationOfWork(sh,sm,eh,em)"
   ]
  },
  {
   "cell_type": "code",
   "execution_count": null,
   "metadata": {},
   "outputs": [],
   "source": []
  }
 ],
 "metadata": {
  "kernelspec": {
   "display_name": "Python 3",
   "language": "python",
   "name": "python3"
  },
  "language_info": {
   "codemirror_mode": {
    "name": "ipython",
    "version": 3
   },
   "file_extension": ".py",
   "mimetype": "text/x-python",
   "name": "python",
   "nbconvert_exporter": "python",
   "pygments_lexer": "ipython3",
   "version": "3.7.3"
  }
 },
 "nbformat": 4,
 "nbformat_minor": 2
}
