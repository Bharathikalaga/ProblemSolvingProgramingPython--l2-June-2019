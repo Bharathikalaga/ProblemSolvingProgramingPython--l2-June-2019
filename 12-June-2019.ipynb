{
 "cells": [
  {
   "cell_type": "markdown",
   "metadata": {},
   "source": [
    "# Problem Solving and Programming\n",
    "### Date 12 June 2019\n",
    "### Day Objectives\n",
    "- string Slicing\n",
    "-  functions in Python.\n",
    "- Basic problems related to conditional statements using functions\n",
    "- Iteration in Python\n",
    "- Python data Structure-List, Tuples and Dictionaries\n",
    "- Basic Operations on data structures\n",
    "- Applying Data Structures to solve problems"
   ]
  },
  {
   "cell_type": "code",
   "execution_count": null,
   "metadata": {},
   "outputs": [],
   "source": []
  },
  {
   "cell_type": "code",
   "execution_count": null,
   "metadata": {},
   "outputs": [],
   "source": []
  },
  {
   "cell_type": "code",
   "execution_count": null,
   "metadata": {},
   "outputs": [],
   "source": []
  },
  {
   "cell_type": "markdown",
   "metadata": {},
   "source": [
    "## String Slicing"
   ]
  },
  {
   "cell_type": "code",
   "execution_count": 38,
   "metadata": {},
   "outputs": [
    {
     "data": {
      "text/plain": [
       "'ht'"
      ]
     },
     "execution_count": 38,
     "metadata": {},
     "output_type": "execute_result"
    }
   ],
   "source": [
    "s1='Python'  # Print the frst  character od string\n",
    "# s1[0]    # Prints the frst character\n",
    "s1[len(s1)-1] # it is refering to the last character (Accessing the last character)\n",
    "s1[-1]  # another way of accessing the last character\n",
    "s1[-2]\n",
    "s1[len(s1)-2]   # accessing the penaultimate character of the string\n",
    "s1[0:2]   # Accessing the frst two characters.\n",
    "s1[-2]  # Accss last two char\n",
    "s1[-3:] # Acc s last three char\n",
    "s1[:3]  # Acc the frst 3 char\n",
    "s1[-2:len(s1)-1]  # Acc the scnd char frm last\n",
    "s1[-3:len(s1)-2]   # Acc the thrd frm last\n",
    "s1[1:-1]   # Acess the frst char except frst and last\n",
    "#Acecss the middle char\n",
    "len(s1)   # shows the lent of the string\n",
    "s1[len(s1)//2] # access the middle character\n",
    "s1[1::-1]   # reverse the sring(yP)\n",
    "s1[-1::-1]\n",
    "s1[-1:-3:-2]# step increment -2 so its prints n\n",
    "# Reverse the middle two char in an even length string\n",
    "len(s1)\n",
    "s1[len(s1)//2-1:len(s1)//2+1][::-1]"
   ]
  },
  {
   "cell_type": "code",
   "execution_count": 36,
   "metadata": {},
   "outputs": [
    {
     "data": {
      "text/plain": [
       "'dhj'"
      ]
     },
     "execution_count": 36,
     "metadata": {},
     "output_type": "execute_result"
    }
   ],
   "source": [
    "s2=\"bmghngjsjhsjdhj\"\n",
    "s2[-3:]"
   ]
  },
  {
   "cell_type": "code",
   "execution_count": 2,
   "metadata": {
    "collapsed": true
   },
   "outputs": [
    {
     "name": "stdout",
     "output_type": "stream",
     "text": [
      "12 <class 'int'>\n"
     ]
    }
   ],
   "source": [
    "a=12\n",
    "print(a,type(a))"
   ]
  },
  {
   "cell_type": "code",
   "execution_count": 4,
   "metadata": {},
   "outputs": [
    {
     "name": "stdout",
     "output_type": "stream",
     "text": [
      "hello <class 'str'>\n"
     ]
    }
   ],
   "source": [
    "a=\"hello\"\n",
    "print(a,type(a))"
   ]
  },
  {
   "cell_type": "code",
   "execution_count": 5,
   "metadata": {},
   "outputs": [
    {
     "data": {
      "text/plain": [
       "str"
      ]
     },
     "execution_count": 5,
     "metadata": {},
     "output_type": "execute_result"
    }
   ],
   "source": [
    "type(a)"
   ]
  },
  {
   "cell_type": "markdown",
   "metadata": {},
   "source": [
    "# Functions"
   ]
  },
  {
   "cell_type": "code",
   "execution_count": 43,
   "metadata": {},
   "outputs": [
    {
     "data": {
      "text/plain": [
       "'nohtyP'"
      ]
     },
     "execution_count": 43,
     "metadata": {},
     "output_type": "execute_result"
    }
   ],
   "source": [
    "# Function to reverse a string\n",
    "def reverseString(s):\n",
    "    return s[::-1]\n",
    "reverseString(\"Python\")\n"
   ]
  },
  {
   "cell_type": "code",
   "execution_count": 15,
   "metadata": {},
   "outputs": [
    {
     "data": {
      "text/plain": [
       "False"
      ]
     },
     "execution_count": 15,
     "metadata": {},
     "output_type": "execute_result"
    }
   ],
   "source": [
    "# Function to check if a string is a palindrome\n",
    "def palindrome(s):\n",
    "    if s==s[::-1]:\n",
    "        return True\n",
    "    else:\n",
    "        return False\n",
    "palindrome(\"hhgh\")\n"
   ]
  },
  {
   "cell_type": "code",
   "execution_count": 27,
   "metadata": {},
   "outputs": [
    {
     "name": "stdout",
     "output_type": "stream",
     "text": [
      "enter the year2012\n"
     ]
    },
    {
     "data": {
      "text/plain": [
       "True"
      ]
     },
     "execution_count": 27,
     "metadata": {},
     "output_type": "execute_result"
    }
   ],
   "source": [
    "# Function to check if a given year is a leap\n",
    "year=int(input(\"enter the year\"))\n",
    "def isLeapYear(year):\n",
    "    if year%400 or (year%4==0 and year%100!=0):\n",
    "        return True\n",
    "    else:\n",
    "        return False\n",
    "isLeapYear(year)"
   ]
  },
  {
   "cell_type": "code",
   "execution_count": 33,
   "metadata": {},
   "outputs": [
    {
     "data": {
      "text/plain": [
       "4"
      ]
     },
     "execution_count": 33,
     "metadata": {},
     "output_type": "execute_result"
    }
   ],
   "source": [
    "# Function to count the number of digits in a given number\n",
    "def countDigits(a):\n",
    "    return len(a)\n",
    "countDigits(str(1234))\n"
   ]
  },
  {
   "cell_type": "code",
   "execution_count": null,
   "metadata": {},
   "outputs": [],
   "source": [
    "# Function to identify the greatest of 4 numbers\n"
   ]
  },
  {
   "cell_type": "markdown",
   "metadata": {},
   "source": [
    "# Iterations\n",
    "- for\n",
    "- while\n"
   ]
  },
  {
   "cell_type": "code",
   "execution_count": 1,
   "metadata": {},
   "outputs": [
    {
     "name": "stdout",
     "output_type": "stream",
     "text": [
      "1 2 3 4 5 6 7 8 9 10 11 12 13 14 15 16 17 18 19 20 "
     ]
    }
   ],
   "source": [
    "# Function to print n  natural numbers\n",
    "def printNaturalNumbers(n):\n",
    "    for counter in range(1,n+1):\n",
    "        print(counter,sep=\",\",end=' ')\n",
    "    return   #\n",
    "printNaturalNumbers(20)"
   ]
  },
  {
   "cell_type": "code",
   "execution_count": 52,
   "metadata": {},
   "outputs": [
    {
     "name": "stdout",
     "output_type": "stream",
     "text": [
      "2 8 14 20 26 32 38 "
     ]
    }
   ],
   "source": [
    "for i in range(1,20,3):\n",
    "    print(i*2, end=' ')  # without functions"
   ]
  },
  {
   "cell_type": "code",
   "execution_count": 58,
   "metadata": {},
   "outputs": [
    {
     "name": "stdout",
     "output_type": "stream",
     "text": [
      "1 2 3 4 5 6 7 8 9 10 11 12 13 14 15 16 17 18 19 20 21 22 23 24 25 26 27 28 29 30 "
     ]
    }
   ],
   "source": [
    "# Functions to print N Natural numbers using \n",
    "def nNaturalNumbers(n):\n",
    "    counter=1\n",
    "    while counter<=n:\n",
    "        print(counter, end=\" \")\n",
    "        counter+=1\n",
    "nNaturalNumbers(30)\n",
    "    \n"
   ]
  },
  {
   "cell_type": "code",
   "execution_count": 66,
   "metadata": {},
   "outputs": [
    {
     "name": "stdout",
     "output_type": "stream",
     "text": [
      "1 3 5 7 9 11 13 15 17 19 21 23 25 27 29 31 33 35 37 39 41 43 45 "
     ]
    }
   ],
   "source": [
    "# without functions\n",
    "n=45\n",
    "counter=1\n",
    "while counter<=n:\n",
    "    print(counter,end=\" \")\n",
    "    counter+=2"
   ]
  },
  {
   "cell_type": "code",
   "execution_count": 71,
   "metadata": {},
   "outputs": [
    {
     "name": "stdout",
     "output_type": "stream",
     "text": [
      "6 12 18 24 30 36 42 48 54 60 66 72 78 84 90 96 "
     ]
    }
   ],
   "source": [
    "# Function to print all numbers divisble by 6\n",
    "# and not a factor of 100 in a given range (lb,ub)inclusive\n",
    "def NumberDivisible(lb,ub):\n",
    "    for num in range(lb,ub+1):\n",
    "        if num%6==0 and 100%num!=0:\n",
    "            print(num,end=\" \")\n",
    "NumberDivisible(6,100)\n",
    "        "
   ]
  },
  {
   "cell_type": "code",
   "execution_count": 10,
   "metadata": {},
   "outputs": [
    {
     "name": "stdout",
     "output_type": "stream",
     "text": [
      "8\n",
      "64\n",
      "216\n",
      "512\n"
     ]
    },
    {
     "data": {
      "text/plain": [
       "8"
      ]
     },
     "execution_count": 10,
     "metadata": {},
     "output_type": "execute_result"
    }
   ],
   "source": [
    "#Function to find the average of cubes of all even numbers\n",
    "# in a given range(lb, ub) inclusive\n",
    "def averageOfCubes(lb,ub):\n",
    "    for i in range (lb,ub+1):\n",
    "        if(i%2==0):\n",
    "            print(i**3)\n",
    "    return i\n",
    "averageOfCubes(1,8)"
   ]
  },
  {
   "cell_type": "code",
   "execution_count": 14,
   "metadata": {},
   "outputs": [
    {
     "name": "stdout",
     "output_type": "stream",
     "text": [
      "1\n",
      "2\n",
      "7\n"
     ]
    },
    {
     "data": {
      "text/plain": [
       "13"
      ]
     },
     "execution_count": 14,
     "metadata": {},
     "output_type": "execute_result"
    }
   ],
   "source": [
    "## Function to generate the list of factors for a given number\n",
    "def factorsOfNumber(num):\n",
    "    for i in range (1,num):\n",
    "        if(num%i==0):\n",
    "            print(i)\n",
    "    return i\n",
    "factorsOfNumber(14)"
   ]
  },
  {
   "cell_type": "code",
   "execution_count": 20,
   "metadata": {},
   "outputs": [
    {
     "name": "stdout",
     "output_type": "stream",
     "text": [
      "120\n"
     ]
    }
   ],
   "source": [
    "# Function to calculate the factorial of a given number\n",
    "def factorialOfNumber(n):\n",
    "    fact=1\n",
    "    for i in range (1,n+1):\n",
    "        fact=fact*i\n",
    "    print(fact)\n",
    "factorialOfNumber(5)"
   ]
  },
  {
   "cell_type": "code",
   "execution_count": 3,
   "metadata": {},
   "outputs": [
    {
     "data": {
      "text/plain": [
       "False"
      ]
     },
     "execution_count": 3,
     "metadata": {},
     "output_type": "execute_result"
    }
   ],
   "source": [
    " # Function to check if a given number is Prime\n",
    "def isPrime(n):\n",
    "    f=True\n",
    "    for i in range (2,n//2):\n",
    "        if n%i==0: \n",
    "            f=False\n",
    "    return f\n",
    "isPrime(8)\n"
   ]
  },
  {
   "cell_type": "code",
   "execution_count": 4,
   "metadata": {},
   "outputs": [
    {
     "name": "stdout",
     "output_type": "stream",
     "text": [
      "3\n"
     ]
    }
   ],
   "source": [
    "# Function to calculate the average first N Prime numbers\n",
    "def avgOfNPrimeNumbers(n):\n",
    "    sum=0\n",
    "    count=0\n",
    "    for i in range (1,n+1):\n",
    "        if isPrime(i):\n",
    "            sum=sum+i\n",
    "            count=count+i\n",
    "    print(sum//i)\n",
    "avgOfNPrimeNumbers(7)\n"
   ]
  },
  {
   "cell_type": "code",
   "execution_count": 8,
   "metadata": {},
   "outputs": [
    {
     "data": {
      "text/plain": [
       "'perfect num'"
      ]
     },
     "execution_count": 8,
     "metadata": {},
     "output_type": "execute_result"
    }
   ],
   "source": [
    "# Function to generate all Perfect numbers in a given range\n",
    "def generatePerfect(n):\n",
    "    total=0\n",
    "    for i in range (1,n):\n",
    "        if n%i==0:\n",
    "            total=total+i\n",
    "    if total==n:\n",
    "        return \"perfect num\"\n",
    "generatePerfect(28)\n"
   ]
  },
  {
   "cell_type": "code",
   "execution_count": 23,
   "metadata": {},
   "outputs": [
    {
     "name": "stdout",
     "output_type": "stream",
     "text": [
      "61\n"
     ]
    }
   ],
   "source": [
    "n=123\n",
    "print(n//2)"
   ]
  },
  {
   "cell_type": "code",
   "execution_count": 5,
   "metadata": {},
   "outputs": [
    {
     "name": "stdout",
     "output_type": "stream",
     "text": [
      "9\n",
      "3 5 7 "
     ]
    }
   ],
   "source": [
    "\n",
    "\n",
    "        \n",
    "        "
   ]
  },
  {
   "cell_type": "code",
   "execution_count": 7,
   "metadata": {},
   "outputs": [
    {
     "data": {
      "text/plain": [
       "True"
      ]
     },
     "execution_count": 7,
     "metadata": {},
     "output_type": "execute_result"
    }
   ],
   "source": []
  },
  {
   "cell_type": "code",
   "execution_count": null,
   "metadata": {},
   "outputs": [],
   "source": []
  }
 ],
 "metadata": {
  "kernelspec": {
   "display_name": "Python 3",
   "language": "python",
   "name": "python3"
  },
  "language_info": {
   "codemirror_mode": {
    "name": "ipython",
    "version": 3
   },
   "file_extension": ".py",
   "mimetype": "text/x-python",
   "name": "python",
   "nbconvert_exporter": "python",
   "pygments_lexer": "ipython3",
   "version": "3.7.3"
  }
 },
 "nbformat": 4,
 "nbformat_minor": 2
}
