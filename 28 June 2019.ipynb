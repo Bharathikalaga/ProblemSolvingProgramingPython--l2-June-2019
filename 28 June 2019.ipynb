{
 "cells": [
  {
   "cell_type": "markdown",
   "metadata": {},
   "source": [
    "# Map\n",
    "* map\n",
    "* lamba\n",
    "* filter\n",
    "* use cses -file/data Encription\n",
    "\n",
    "\n",
    "* Mapping - Entity with function\n",
    "* f: x^2+3*x+9\n",
    "* x:[1,10]\n",
    "* f(x)=x^2\n",
    "* y=f(x)\n",
    "* x  -y\n",
    "* 1   -1\n",
    "* 2    -4\n",
    "* 3     -9\n",
    "* 4     -16\n",
    "* 5     -25\n",
    "* 6     -36\n",
    "* map(function,Iterable) Function to return a mathmatical value"
   ]
  },
  {
   "cell_type": "code",
   "execution_count": 22,
   "metadata": {},
   "outputs": [
    {
     "data": {
      "text/plain": [
       "{1, 8, 27, 64}"
      ]
     },
     "execution_count": 22,
     "metadata": {},
     "output_type": "execute_result"
    }
   ],
   "source": [
    "def power(a,n):\n",
    "    total=a**n\n",
    "    return total\n",
    "power(2,3)\n",
    "\n",
    "def powerN(a,n):\n",
    "    finalout=1\n",
    "    for i in range(1,n):\n",
    "        finalout *= a\n",
    "    return finalout\n",
    "powerN(2,3)\n",
    "\n",
    "def recutsivePowerN(a,n):\n",
    "    if n==0:\n",
    "        return 1\n",
    "    else:\n",
    "        return (a*recutsivePowerN(a,n-1))\n",
    "\n",
    "recutsivePowerN(2,10)    \n",
    "\n",
    "def cube(n):\n",
    "    return n**3\n",
    "cube(3)\n",
    "\n",
    "def cubeOflist(n):\n",
    "    return n**3\n",
    "li=[1,2,3,4,5,6,7,8,9,10]\n",
    "set(map(cube,li))\n",
    " \n",
    "    \n",
    "def cubesofstringstoint(n):\n",
    "    return n**3\n",
    "    \n",
    "li2=['1','2','3','4']\n",
    "n=list(map(int,li2))\n",
    "set(map(cubesofstringstoint,n))\n",
    "\n",
    "        "
   ]
  },
  {
   "cell_type": "code",
   "execution_count": 37,
   "metadata": {},
   "outputs": [
    {
     "data": {
      "text/plain": [
       "1024"
      ]
     },
     "execution_count": 37,
     "metadata": {},
     "output_type": "execute_result"
    }
   ],
   "source": [
    "def recutsivePowerN(a,n):\n",
    "    if n==0:\n",
    "        return 1\n",
    "    else:\n",
    "        return (a*recutsivePowerN(a,n-1))\n",
    "\n",
    "recutsivePowerN(2,10)    "
   ]
  },
  {
   "cell_type": "markdown",
   "metadata": {},
   "source": [
    "## Filter\n",
    "* Used to check boolean values\n"
   ]
  },
  {
   "cell_type": "code",
   "execution_count": 49,
   "metadata": {},
   "outputs": [
    {
     "data": {
      "text/plain": [
       "False"
      ]
     },
     "execution_count": 49,
     "metadata": {},
     "output_type": "execute_result"
    }
   ],
   "source": [
    "li=[1,2,3,4,5,'i','j','k','l']\n",
    "def isDigit(c):\n",
    "    if c.isdigit():\n",
    "        return True\n",
    "    return False\n",
    "isDigit('1')\n",
    "isDigit('a')"
   ]
  },
  {
   "cell_type": "code",
   "execution_count": 57,
   "metadata": {},
   "outputs": [
    {
     "data": {
      "text/plain": [
       "['i', 'j', 'k', 'l']"
      ]
     },
     "execution_count": 57,
     "metadata": {},
     "output_type": "execute_result"
    }
   ],
   "source": [
    "li=[1,2,3,4,5,'i','j','k','l']\n",
    "def isDigit(c):\n",
    "    c=str(c)\n",
    "    if c.isdigit():\n",
    "        return 0  # it returns the the all the string elements(return 1)\n",
    "    return 1\n",
    "isDigit('1')\n",
    "list(filter(isDigit,li))"
   ]
  },
  {
   "cell_type": "code",
   "execution_count": 3,
   "metadata": {},
   "outputs": [
    {
     "data": {
      "text/plain": [
       "True"
      ]
     },
     "execution_count": 3,
     "metadata": {},
     "output_type": "execute_result"
    }
   ],
   "source": [
    "# Identify the all primes in a given range\n",
    "def isprime(n):#30\n",
    "    for i in range(2,(n//2) + 1):\n",
    "        if n%i == 0:\n",
    "            return False\n",
    "    return True\n",
    "                \n",
    "    \n",
    "isprime(3)"
   ]
  },
  {
   "cell_type": "code",
   "execution_count": 6,
   "metadata": {},
   "outputs": [
    {
     "data": {
      "text/plain": [
       "{5, 7}"
      ]
     },
     "execution_count": 6,
     "metadata": {},
     "output_type": "execute_result"
    }
   ],
   "source": [
    "def isprime(n):#30\n",
    "    for i in range(2,(n//2) + 1):\n",
    "        if n%i == 0:\n",
    "            return False\n",
    "    return True\n",
    "                \n",
    "    \n",
    "lb,ub=5,10\n",
    "set(filter(isprime,range(5,10)))"
   ]
  },
  {
   "cell_type": "code",
   "execution_count": 17,
   "metadata": {},
   "outputs": [
    {
     "data": {
      "text/plain": [
       "[83, 89, 97, 101, 103, 107, 109]"
      ]
     },
     "execution_count": 17,
     "metadata": {},
     "output_type": "execute_result"
    }
   ],
   "source": [
    "# prime list using list Cpmphre\n",
    "lb,ub=2,10\n",
    "primeList=[i for i in range(lb,ub+1) if isprime(i)]\n",
    "\n",
    "primeList\n",
    "\n",
    "x,y=80,112\n",
    "prlist = [j for j in range(x,y+1) if isprime(j)]\n",
    "prlist\n"
   ]
  },
  {
   "cell_type": "code",
   "execution_count": 11,
   "metadata": {},
   "outputs": [
    {
     "data": {
      "text/plain": [
       "False"
      ]
     },
     "execution_count": 11,
     "metadata": {},
     "output_type": "execute_result"
    }
   ],
   "source": [
    "isprime(8)"
   ]
  },
  {
   "cell_type": "code",
   "execution_count": 23,
   "metadata": {},
   "outputs": [
    {
     "data": {
      "text/plain": [
       "[1, 2, 3, 4, 5]"
      ]
     },
     "execution_count": 23,
     "metadata": {},
     "output_type": "execute_result"
    }
   ],
   "source": [
    "s=\"12345\"\n",
    "slist=list(map(int,s))\n",
    "slist\n",
    "cubelist=[i for i in slist if cubeOflist(i)]\n",
    "cubelist"
   ]
  },
  {
   "cell_type": "markdown",
   "metadata": {},
   "source": [
    "# Lambda\n",
    "Annonymous Functions\n",
    "* can be embedded into lists,map,tuple,list Comprehension"
   ]
  },
  {
   "cell_type": "code",
   "execution_count": 31,
   "metadata": {},
   "outputs": [
    {
     "data": {
      "text/plain": [
       "<function __main__.<lambda>(n)>"
      ]
     },
     "execution_count": 31,
     "metadata": {},
     "output_type": "execute_result"
    }
   ],
   "source": [
    "a=lambda n : n+10\n",
    "a(2)\n",
    "a"
   ]
  },
  {
   "cell_type": "code",
   "execution_count": 30,
   "metadata": {},
   "outputs": [
    {
     "name": "stdout",
     "output_type": "stream",
     "text": [
      "15\n"
     ]
    }
   ],
   "source": [
    "x = lambda a : a + 10\n",
    "print(x(5))\n"
   ]
  },
  {
   "cell_type": "code",
   "execution_count": 35,
   "metadata": {},
   "outputs": [
    {
     "data": {
      "text/plain": [
       "[1, 3, 5, 7, 9]"
      ]
     },
     "execution_count": 35,
     "metadata": {},
     "output_type": "execute_result"
    }
   ],
   "source": [
    "a = lambda num : num ** 3\n",
    "#print(a(2))\n",
    "list(map(lambda x : x**3, [1,2,3,4,5,6,7,8,9,10])) # it prints all the cubes of each digit\n",
    "list (filter(lambda x: (x%2 == 0 ),[1,2,3,4,5,6,7,8,9,10])) # it prints all the even numbers\n",
    "list(filter(lambda x: (x%2 != 0),[1,2,3,4,5,6,7,8,9,10]))"
   ]
  },
  {
   "cell_type": "code",
   "execution_count": 64,
   "metadata": {},
   "outputs": [
    {
     "name": "stdout",
     "output_type": "stream",
     "text": [
      "[50, 32, 48, 55, 32, 60, 37, 43, 45, 19]\n"
     ]
    },
    {
     "data": {
      "text/plain": [
       "[19]"
      ]
     },
     "execution_count": 64,
     "metadata": {},
     "output_type": "execute_result"
    }
   ],
   "source": [
    "# student marks in exam\n",
    "from random import randint\n",
    "internal1=[randint(0,25) for i in range(1,11)]\n",
    "internal2=[randint(0,25) for i  in range (1,11)]\n",
    "external=[randint(0,75) for i in range (1,11)]\n",
    "averageInternal=list(map(lambda x,y,z : (x+y+z//3), internal1,internal2,external))\n",
    "print(averageInternal)\n",
    "#sum(internal1,internal2)\n",
    "#sum//2\n",
    "failedstudents=list(filter(lambda a : a<20, averageInternal))\n",
    "failedstudents"
   ]
  },
  {
   "cell_type": "markdown",
   "metadata": {},
   "source": [
    "# Applying Functional programming to the marks analysis  application"
   ]
  },
  {
   "cell_type": "code",
   "execution_count": 66,
   "metadata": {},
   "outputs": [],
   "source": [
    "# Generate marks data \n",
    "from random import randint\n",
    "def generateMarks(n,lb,ub):\n",
    "    filename='Datafiles/marks.txt'\n",
    "    with open (filename,'w') as f:\n",
    "        for i in range (n):\n",
    "            marks=randint(lb,ub)\n",
    "            f.write(str(marks)+'\\n')\n",
    "    return\n",
    "generateMarks(300,0,100)\n",
    "    \n",
    "            \n",
    "        "
   ]
  },
  {
   "cell_type": "code",
   "execution_count": 82,
   "metadata": {},
   "outputs": [
    {
     "name": "stdout",
     "output_type": "stream",
     "text": [
      "[59, 91, 88, 80, 67, 99, 77, 14, 6, 92, 5, 33, 32, 7, 6, 89, 26, 57, 39, 96, 66, 31, 57, 97, 38, 56, 5, 92, 88, 19, 29, 63, 98, 24, 77, 77, 40, 56, 80, 50, 14, 42, 50, 54, 37, 9, 20, 61, 65, 2, 45, 46, 18, 67, 1, 72, 42, 23, 1, 93, 80, 46, 10, 1, 81, 66, 23, 45, 93, 10, 98, 38, 44, 34, 91, 22, 69, 64, 58, 30, 58, 26, 62, 75, 54, 33, 77, 70, 72, 5, 90, 82, 73, 21, 94, 33, 41, 89, 89, 44, 32, 2, 11, 97, 67, 22, 96, 86, 20, 97, 3, 35, 100, 67, 47, 5, 25, 62, 35, 44, 58, 92, 80, 10, 17, 36, 25, 67, 27, 7, 81, 79, 92, 39, 33, 93, 1, 69, 72, 61, 99, 64, 85, 74, 75, 21, 84, 42, 75, 69, 53, 63, 1, 38, 74, 21, 80, 99, 84, 80, 21, 31, 59, 66, 57, 64, 5, 59, 61, 34, 58, 87, 33, 31, 20, 7, 23, 62, 69, 34, 73, 76, 62, 86, 83, 49, 68, 13, 26, 57, 40, 44, 93, 38, 8, 23, 1, 81, 87, 51, 8, 62, 73, 59, 42, 3, 39, 2, 8, 9, 12, 54, 27, 70, 65, 46, 17, 36, 79, 6, 19, 91, 58, 91, 87, 75, 86, 93, 33, 15, 62, 77, 57, 4, 25, 51, 5, 63, 17, 64, 20, 24, 35, 26, 43, 1, 39, 65, 86, 38, 46, 100, 94, 59, 17, 94, 67, 13, 99, 100, 34, 87, 66, 10, 99, 1, 81, 100, 21, 68, 80, 72, 13, 47, 49, 0, 71, 0, 70, 20, 55, 85, 30, 1, 36, 100, 35, 96, 39, 51, 50, 45, 98, 42, 79, 1, 57, 82, 18, 72]\n"
     ]
    },
    {
     "data": {
      "text/plain": [
       "50"
      ]
     },
     "execution_count": 82,
     "metadata": {},
     "output_type": "execute_result"
    }
   ],
   "source": [
    "# marks analysis\n",
    "# Class avg,% of passed,fail\n",
    "# % of passed ,failed and distinction\n",
    "# frequency of highest & lowest mark.\n",
    "import re\n",
    "def readmarkslist(filename):\n",
    "    with open (filename,'r') as f:\n",
    "        filedata = f.read().split()\n",
    "    return list(map(int,filedata))\n",
    "def classAvg(filedata):\n",
    "    markslist=readmarkslist(filedata)\n",
    "    print(markslist)\n",
    "    return sum(markslist)//len(markslist)\n",
    "\n",
    "filename='Datafiles/marks.txt'\n",
    "classAvg(filename)"
   ]
  },
  {
   "cell_type": "code",
   "execution_count": 100,
   "metadata": {},
   "outputs": [
    {
     "data": {
      "text/plain": [
       "100"
      ]
     },
     "execution_count": 100,
     "metadata": {},
     "output_type": "execute_result"
    }
   ],
   "source": [
    "def percentageOfFailed(filename):\n",
    "    markslist=readmarkslist(filename)\n",
    "    passPercentage=len(list(filter(lambda x : x<35, markslist)))\n",
    "    return passPercentage\n",
    "\n",
    "percentageOfFailed(filename)"
   ]
  },
  {
   "cell_type": "code",
   "execution_count": 101,
   "metadata": {},
   "outputs": [
    {
     "data": {
      "text/plain": [
       "196"
      ]
     },
     "execution_count": 101,
     "metadata": {},
     "output_type": "execute_result"
    }
   ],
   "source": [
    "def percentagepasspercentage(filename):\n",
    "    markslist=readmarkslist(filename)\n",
    "    passPercentage=len(list(filter(lambda x : x>35, markslist)))\n",
    "    return passPercentage\n",
    "\n",
    "percentagepasspercentage(filename)    "
   ]
  },
  {
   "cell_type": "code",
   "execution_count": 94,
   "metadata": {},
   "outputs": [
    {
     "data": {
      "text/plain": [
       "(5, 100)"
      ]
     },
     "execution_count": 94,
     "metadata": {},
     "output_type": "execute_result"
    }
   ],
   "source": [
    "def highestMarkFreq(filename):\n",
    "    markslist=readmarkslist(filepath)\n",
    "    return markslist.count(max(markslist)),max(markslist)\n",
    "highestMarkFreq(filename)"
   ]
  },
  {
   "cell_type": "code",
   "execution_count": null,
   "metadata": {},
   "outputs": [],
   "source": []
  },
  {
   "cell_type": "code",
   "execution_count": 95,
   "metadata": {},
   "outputs": [
    {
     "data": {
      "text/plain": [
       "(2, 0)"
      ]
     },
     "execution_count": 95,
     "metadata": {},
     "output_type": "execute_result"
    }
   ],
   "source": [
    "def lowestMarkFreq(filename):\n",
    "    markslist=readmarkslist(filepath)\n",
    "    return markslist.count(min(markslist)),min(markslist)\n",
    "lowestMarkFreq(filename)"
   ]
  },
  {
   "cell_type": "markdown",
   "metadata": {},
   "source": [
    "# Data Encryption\n",
    "key- Mapping of characters with replaced\n",
    "- 0-> 4  second key replaced(1+4)\n",
    "- 1 ->5\n",
    "- 2->6\n",
    "- 3->7\n",
    "- 4->8\n",
    "- 5->9\n",
    "- 6->1 (6-5==1)\n",
    "- 7->2\n",
    "- 8->3"
   ]
  },
  {
   "cell_type": "code",
   "execution_count": 106,
   "metadata": {},
   "outputs": [],
   "source": [
    "# Function generate key for encryption\n",
    "keypath='Datafiles/key.txt'\n",
    "def generateKey(keypath):\n",
    "    with open (keypath,'w') as f:\n",
    "        for i in range (10):\n",
    "            if i<6:\n",
    "                f.write(str(i) + ' ' + str(i+4) + '\\n')\n",
    "            else:\n",
    "                #f.write(str(i) + ' ' + str(i-6) + '\\n')(else)\n",
    "                f.write(str(i) + ' ' + str(i+4)[-1:] + '\\n')\n",
    "                \n",
    "    \n",
    "generateKey(keypath)\n",
    "    "
   ]
  },
  {
   "cell_type": "code",
   "execution_count": 112,
   "metadata": {},
   "outputs": [
    {
     "data": {
      "text/plain": [
       "{'0': '4',\n",
       " '1': '5',\n",
       " '2': '6',\n",
       " '3': '7',\n",
       " '4': '8',\n",
       " '5': '9',\n",
       " '6': '0',\n",
       " '7': '1',\n",
       " '8': '2',\n",
       " '9': '3'}"
      ]
     },
     "execution_count": 112,
     "metadata": {},
     "output_type": "execute_result"
    }
   ],
   "source": [
    "# Fuction to encrypt a data file\n",
    "keyfile='Datafiles/key.txt'\n",
    "def dictionaryKeyFile(keyfile):\n",
    "    key={}\n",
    "    with open (keyfile,'r') as f:\n",
    "        for line in f:\n",
    "            line=line.split()\n",
    "            key[line[0]]=line[1]\n",
    "    return key\n",
    "dictionaryKeyFile(keyfile)\n",
    "        "
   ]
  },
  {
   "cell_type": "code",
   "execution_count": null,
   "metadata": {},
   "outputs": [],
   "source": []
  }
 ],
 "metadata": {
  "kernelspec": {
   "display_name": "Python 3",
   "language": "python",
   "name": "python3"
  },
  "language_info": {
   "codemirror_mode": {
    "name": "ipython",
    "version": 3
   },
   "file_extension": ".py",
   "mimetype": "text/x-python",
   "name": "python",
   "nbconvert_exporter": "python",
   "pygments_lexer": "ipython3",
   "version": "3.7.3"
  }
 },
 "nbformat": 4,
 "nbformat_minor": 2
}
