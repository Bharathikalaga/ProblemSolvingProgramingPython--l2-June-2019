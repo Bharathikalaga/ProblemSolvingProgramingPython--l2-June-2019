{
 "cells": [
  {
   "cell_type": "code",
   "execution_count": 1,
   "metadata": {},
   "outputs": [
    {
     "data": {
      "text/plain": [
       "4"
      ]
     },
     "execution_count": 1,
     "metadata": {},
     "output_type": "execute_result"
    }
   ],
   "source": [
    "#function to check if two strings are equal r not\n",
    "#abc cba ->>true\n",
    "# abc abc\n",
    "#aabbcc ccbbaaa-->false\n",
    "def checkanagram(s1,s2):\n",
    "    if len(s1)!=len(s2):\n",
    "        return False\n",
    "    if sorted(s1)==sorted(s2):\n",
    "        return True\n",
    "    return False\n",
    "checkanagram('abc','bcc')\n",
    "    \n",
    "def chardeletionsanagrams(s1,s2):\n",
    "    uncommon=[]\n",
    "    for i in s1:\n",
    "        if i not in s2:\n",
    "            uncommon.append(i)\n",
    "    for i in s2:\n",
    "        if i not in s1:\n",
    "            uncommon.append(i)\n",
    "    count=len(uncommon)\n",
    "   #freq1-->frequency of common \n",
    "    freqs1={}\n",
    "    freqs2={}\n",
    "   #unique char in s1 and s2\n",
    "    uniqs1=[]\n",
    "    uniqs2=[]\n",
    "   #frequency of unique charcters in s1\n",
    "    for i in s1:\n",
    "        if i not in uncommon and i not in uniqs1:\n",
    "            freqs1[i]=s1.count(i)\n",
    "            uniqs1.append(i)\n",
    "   #frequency of unique charcters in s2        \n",
    "    for i in s2:\n",
    "        if i not in uncommon and i not in uniqs2:\n",
    "            freqs2[i]=s2.count(i)\n",
    "            uniqs2.append(i)\n",
    "   # difference in frequencies for common characters         \n",
    "    for key in freqs1.keys():\n",
    "        count+=abs(freqs1[key]-freqs2[key])\n",
    "           \n",
    "    return count      \n",
    "           \n",
    "chardeletionsanagrams('cde','abc')\n"
   ]
  },
  {
   "cell_type": "code",
   "execution_count": null,
   "metadata": {},
   "outputs": [],
   "source": [
    "# Element with highest frequency\n",
    "# second highest frequency\n",
    "# kth highest freq\n",
    "def kLargestfreq(s,k):\n",
    "    freq={}\n",
    "    for i in s:\n",
    "        freq[i]= s.count(i) \n",
    "    values=freq.values()# [2,1,1,3]\n",
    "    unique_Values=list(set(values)) ##[1,2,3]\n",
    "    sorted_Values=unique_Values[::-1] ## [3,2,1] \n",
    "    #print(sorted_Values)\n",
    "    if len(sorted_Values) < k:\n",
    "        return -1\n",
    "    else:\n",
    "        freq=[]\n",
    "        for item in d.items():\n",
    "            if item[1]==sorted_Values[k-1]:\n",
    "                freq.append(item[0])\n",
    "        print(freq)\n",
    "    return min(freq) \n",
    "                   \n",
    "            \n",
    "t=int(input()) # no of test cases\n",
    "for i in range(t):\n",
    "    s=list(map(int,input().split())  # input data string(ddacg)\n",
    "    k=int(input())  # kth largest number\n",
    "    print(kLargestfreq(s,k))\n",
    "    "
   ]
  },
  {
   "cell_type": "code",
   "execution_count": null,
   "metadata": {},
   "outputs": [],
   "source": []
  },
  {
   "cell_type": "code",
   "execution_count": null,
   "metadata": {},
   "outputs": [],
   "source": [
    "#"
   ]
  },
  {
   "cell_type": "code",
   "execution_count": 5,
   "metadata": {},
   "outputs": [
    {
     "name": "stdout",
     "output_type": "stream",
     "text": [
      "[1, 3, 6, 9]\n"
     ]
    },
    {
     "data": {
      "text/plain": [
       "3"
      ]
     },
     "execution_count": 5,
     "metadata": {},
     "output_type": "execute_result"
    }
   ],
   "source": [
    "# kth smallest\n",
    "def kSmallest(li,k):\n",
    "                    # Extract unique elements in yhe list\n",
    "    unique=[]\n",
    "    for i in li:\n",
    "        if i not in unique:\n",
    "            unique.append(i)\n",
    "                          # sort the unique list in the asending order\n",
    "    unique=sorted(unique)\n",
    "    print(unique)\n",
    "                              # check if length of unique list is greatest\n",
    "    if len(unique) >= k:\n",
    "        return unique[k-1]\n",
    "    return -1\n",
    "kSmallest([3,1,3,6,9],2)  # it prints second smallest\n",
    "            "
   ]
  },
  {
   "cell_type": "code",
   "execution_count": 16,
   "metadata": {},
   "outputs": [
    {
     "data": {
      "text/plain": [
       "1"
      ]
     },
     "execution_count": 16,
     "metadata": {},
     "output_type": "execute_result"
    }
   ],
   "source": [
    "# Fumctioon to identify with highest freq in a list\n",
    "# if any element have the highest freq return smallest\n",
    "# highest freq of ([1,2,3,9,8,7,3,4,2,1])--->1\n",
    "\n",
    "def highestFreqency(li):\n",
    "    d={}\n",
    "    for i in li:\n",
    "        d[i]=li.count(i)\n",
    "    values=sorted(set(d.values()))\n",
    "    l=[]\n",
    "    for key,val in d.items():\n",
    "        if val==max(values):\n",
    "            l.append((key,val))\n",
    "    l=sorted(l)\n",
    "    t=l[0]        ## ir prints the highest freq of the key\n",
    "    return t[0]\n",
    "    \n",
    "\n",
    "highestFreqency([1,2,3,9,8,7,3,4,2,1])   \n",
    "    \n",
    "    "
   ]
  },
  {
   "cell_type": "code",
   "execution_count": 2,
   "metadata": {},
   "outputs": [
    {
     "name": "stdout",
     "output_type": "stream",
     "text": [
      "[1, 2, 3]\n"
     ]
    },
    {
     "data": {
      "text/plain": [
       "1"
      ]
     },
     "execution_count": 2,
     "metadata": {},
     "output_type": "execute_result"
    }
   ],
   "source": [
    "def highestFreqencymodel2(li):\n",
    "    unique={}\n",
    "    for i in li:\n",
    "        if i in unique:\n",
    "            unique[i]+=1\n",
    "            #print(unique)\n",
    "        else:\n",
    "            unique[i]=1\n",
    "        freq=unique.values()\n",
    "        maxfreq=max(freq) # 2\n",
    "        maxfreqkeys=[]\n",
    "        for item in unique.items():\n",
    "            if item[1]==maxfreq:\n",
    "                maxfreqkeys.append(item[0])\n",
    "    print(maxfreqkeys)\n",
    "    #return maxfreqkeys[2-1] #  we want middle one\n",
    "    return min(maxfreqkeys)\n",
    "    \n",
    "    \n",
    "highestFreqencymodel2([1,2,3,9,8,7,3,4,2,1])"
   ]
  },
  {
   "cell_type": "code",
   "execution_count": 2,
   "metadata": {},
   "outputs": [
    {
     "name": "stdout",
     "output_type": "stream",
     "text": [
      "[3, 9]\n"
     ]
    },
    {
     "data": {
      "text/plain": [
       "3"
      ]
     },
     "execution_count": 2,
     "metadata": {},
     "output_type": "execute_result"
    }
   ],
   "source": [
    "# function to identify the second hoghest freq\n",
    "def secondhighestFreqencymodel2(li,k):\n",
    "    d={}\n",
    "    for i in li:\n",
    "        d[i]=li.count(i)\n",
    "    #print(d)\n",
    "    secondmax=sorted(set(d.values()),reverse=True)\n",
    "    #print(secondmax)\n",
    "    if len(secondmax)<1:\n",
    "        return -1\n",
    "    else:\n",
    "        freq=[]\n",
    "        for item in d.items():\n",
    "            if item[1]==secondmax[k-1]:\n",
    "                freq.append(item[0])\n",
    "        print(freq)\n",
    "    return min(freq)\n",
    "        \n",
    "        \n",
    "    \n",
    "    \n",
    "secondhighestFreqencymodel2([1,2,3,2,1,4,4,9],2)\n",
    "    "
   ]
  },
  {
   "cell_type": "code",
   "execution_count": 3,
   "metadata": {},
   "outputs": [
    {
     "data": {
      "text/plain": [
       "[2, 5, 8, 34]"
      ]
     },
     "execution_count": 3,
     "metadata": {},
     "output_type": "execute_result"
    }
   ],
   "source": [
    "sorted([5,34,8,2])"
   ]
  },
  {
   "cell_type": "code",
   "execution_count": 62,
   "metadata": {},
   "outputs": [
    {
     "name": "stdout",
     "output_type": "stream",
     "text": [
      "('a', 1)\n",
      "('b', 2)\n"
     ]
    }
   ],
   "source": [
    "d={'a':1,'b':2}\n",
    "d\n",
    "for item in d.items():\n",
    "    print(item)"
   ]
  },
  {
   "cell_type": "code",
   "execution_count": 4,
   "metadata": {},
   "outputs": [
    {
     "name": "stdout",
     "output_type": "stream",
     "text": [
      "1\n",
      "1 2 3 4 3 4 2 5\n",
      "2\n",
      "1\n"
     ]
    }
   ],
   "source": [
    "# to find the kth highest value\n",
    "def kthighestFreqnum(s,k):\n",
    "    d={}\n",
    "    for i in s:\n",
    "        d[i]=s.count(i)\n",
    "    #print(d)\n",
    "    secondmax=sorted(set(d.values()),reverse=True)\n",
    "    #print(secondmax)\n",
    "    if len(secondmax)<1:\n",
    "        return -1\n",
    "    else:\n",
    "        freq=[]\n",
    "        for item in d.items():\n",
    "            if item[1]==secondmax[k-1]:\n",
    "                freq.append(item[0])\n",
    "        return min(freq)\n",
    "                  \n",
    "t=int(input()) # no of test cases\n",
    "for i in range(t):\n",
    "    s=list(map(int,input().split()))  # input data string(ddacg)\n",
    "    k=int(input())  # kth largest number\n",
    "    print(kthighestFreqnum(s,k))\n",
    "        "
   ]
  },
  {
   "cell_type": "code",
   "execution_count": null,
   "metadata": {},
   "outputs": [],
   "source": [
    "3\n"
   ]
  },
  {
   "cell_type": "code",
   "execution_count": null,
   "metadata": {},
   "outputs": [],
   "source": []
  }
 ],
 "metadata": {
  "kernelspec": {
   "display_name": "Python 3",
   "language": "python",
   "name": "python3"
  },
  "language_info": {
   "codemirror_mode": {
    "name": "ipython",
    "version": 3
   },
   "file_extension": ".py",
   "mimetype": "text/x-python",
   "name": "python",
   "nbconvert_exporter": "python",
   "pygments_lexer": "ipython3",
   "version": "3.7.3"
  }
 },
 "nbformat": 4,
 "nbformat_minor": 2
}
