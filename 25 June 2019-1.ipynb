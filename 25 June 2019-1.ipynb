{
 "cells": [
  {
   "cell_type": "code",
   "execution_count": 1,
   "metadata": {},
   "outputs": [],
   "source": [
    "# Contacts Application\n",
    "    # Add,Search,List,Modify Delete Contact\n",
    "    \n",
    "# Find and replace Application\n",
    "   # Count the total number of occurances of a word\n",
    "    # if word is existing\n",
    "    # Replace all Occurances of a word with another word\n",
    "    \n",
    "# marks analysi\n",
    "    # generate the mark file-(randon file ) for n students\n",
    "   # marks text file--each line contains marks of one student    \n",
    "  # it generates a report with the following information\n",
    "        # Class average\n",
    "        # percentage of students passed\n",
    "        # % of falied students\n",
    "        # % of students with Distinction\n",
    "        # Highest marks frequency\n",
    "        #Lowest marks frequency\n",
    "        \n",
    "    "
   ]
  },
  {
   "cell_type": "code",
   "execution_count": 4,
   "metadata": {},
   "outputs": [],
   "source": [
    "# Function to generate marks data for n students\n",
    "from random import randint\n",
    "def generateMarks(n,lb,ub):\n",
    "    with open ('Datafiles/marks.txt','w') as f:\n",
    "        for i in range(0,n):\n",
    "            r=randint(lb,ub)\n",
    "            f.write(str(r) + '\\n')\n",
    "    return\n",
    "generateMarks(1000,0,100)"
   ]
  },
  {
   "cell_type": "code",
   "execution_count": 20,
   "metadata": {},
   "outputs": [
    {
     "name": "stdout",
     "output_type": "stream",
     "text": [
      "48.446\n"
     ]
    }
   ],
   "source": [
    "def classAverage(filepath):\n",
    "    with open (filepath,'r') as b:\n",
    "        filedata=b.read()\n",
    "        #print(filedata.split())\n",
    "        marks_list=list(map(int,filedata.split()))\n",
    "        #print(filedata)\n",
    "        #print(len(filedata))\n",
    "        print(sum(marks_list)/len(marks_list))      \n",
    "\n",
    "\n",
    "\n",
    "filepath='Datafiles/marks.txt'\n",
    "classAverage(filepath)"
   ]
  },
  {
   "cell_type": "code",
   "execution_count": 25,
   "metadata": {},
   "outputs": [
    {
     "name": "stdout",
     "output_type": "stream",
     "text": [
      "64.9\n"
     ]
    }
   ],
   "source": [
    "def passPercentage(filepath):\n",
    "    with open (filepath,'r') as b:\n",
    "        filedata=b.read()\n",
    "        marks_list=list(map(int,filedata.split()))\n",
    "        total=0\n",
    "        for marks in marks_list:\n",
    "            if marks>=35:\n",
    "                total=total+1\n",
    "        print((total/len(marks_list))*100)\n",
    "passPercentage(filepath)\n",
    "        \n",
    "    "
   ]
  },
  {
   "cell_type": "code",
   "execution_count": 26,
   "metadata": {},
   "outputs": [
    {
     "name": "stdout",
     "output_type": "stream",
     "text": [
      "35.099999999999994\n"
     ]
    }
   ],
   "source": [
    "def failedPercentage(filepath):\n",
    "    with open (filepath,'r') as b:\n",
    "        filedata=b.read()\n",
    "        marks_list=list(map(int,filedata.split()))\n",
    "        total=0\n",
    "        for marks in marks_list:\n",
    "            if marks<=34:\n",
    "                total=total+1\n",
    "        print((total/len(marks_list))*100)\n",
    "failedPercentage(filepath)"
   ]
  },
  {
   "cell_type": "code",
   "execution_count": 77,
   "metadata": {},
   "outputs": [
    {
     "name": "stdout",
     "output_type": "stream",
     "text": [
      "27.3\n"
     ]
    }
   ],
   "source": [
    "def distinctionPercentage(filepath):\n",
    "    with open (filepath,'r') as b:\n",
    "        filedata=b.read()\n",
    "        marks_list=list(map(int,filedata.split()))\n",
    "        count=0\n",
    "        for marks in marks_list:\n",
    "            if marks>70:\n",
    "                count=count+1\n",
    "        print((count/len(marks_list))*100)\n",
    "distinctionPercentage(filepath)"
   ]
  },
  {
   "cell_type": "code",
   "execution_count": 42,
   "metadata": {},
   "outputs": [
    {
     "name": "stdout",
     "output_type": "stream",
     "text": [
      "(100, 9)\n"
     ]
    }
   ],
   "source": [
    "def highestMarksFrequency(filepath):\n",
    "    with open(filepath,'r') as b:\n",
    "        filedata=b.read()\n",
    "        marks_list=list(map(int,filedata.split()))\n",
    "        highestmarks=0\n",
    "        for marks in marks_list:\n",
    "            if marks>=100:\n",
    "                highestmarks=marks,marks_list.count(marks)\n",
    "        print(highestmarks)\n",
    "highestMarksFrequency(filepath)\n",
    "        "
   ]
  },
  {
   "cell_type": "code",
   "execution_count": 83,
   "metadata": {},
   "outputs": [
    {
     "name": "stdout",
     "output_type": "stream",
     "text": [
      "(0, 11)\n"
     ]
    }
   ],
   "source": [
    "def lowestMarksFrequency(filepath):\n",
    "    with open(filepath,'r') as b:\n",
    "        filedata=b.read()\n",
    "        marks_list=list(map(int,filedata.split()))\n",
    "        lowestmarks=0\n",
    "        for marks in marks_list:\n",
    "            if marks<=0:\n",
    "                lowest=(marks,marks_list.count(marks))\n",
    "        print(lowest)\n",
    "lowestMarksFrequency(filepath)"
   ]
  },
  {
   "cell_type": "code",
   "execution_count": 111,
   "metadata": {},
   "outputs": [
    {
     "name": "stdout",
     "output_type": "stream",
     "text": [
      "0 11\n",
      "1 8\n",
      "2 12\n",
      "3 13\n",
      "4 7\n",
      "5 15\n",
      "6 8\n",
      "7 10\n",
      "8 13\n",
      "9 7\n",
      "10 11\n",
      "11 8\n",
      "12 9\n",
      "13 11\n",
      "14 10\n",
      "15 10\n",
      "16 12\n",
      "17 12\n",
      "18 13\n",
      "19 14\n",
      "20 9\n",
      "21 13\n",
      "22 10\n",
      "23 6\n",
      "24 12\n",
      "25 11\n",
      "26 7\n",
      "27 9\n",
      "28 9\n",
      "29 12\n",
      "30 10\n",
      "31 7\n",
      "32 11\n",
      "33 7\n",
      "34 4\n",
      "35 11\n",
      "36 16\n",
      "37 10\n",
      "38 11\n",
      "39 9\n",
      "40 14\n",
      "41 16\n",
      "42 14\n",
      "43 10\n",
      "44 8\n",
      "45 9\n",
      "46 11\n",
      "47 10\n",
      "48 10\n",
      "49 9\n",
      "50 13\n",
      "51 8\n",
      "52 15\n",
      "53 15\n",
      "54 10\n",
      "55 4\n",
      "56 9\n",
      "57 11\n",
      "58 9\n",
      "59 10\n",
      "60 15\n",
      "61 8\n",
      "62 8\n",
      "63 10\n",
      "64 11\n",
      "65 9\n",
      "66 11\n",
      "67 13\n",
      "68 8\n",
      "69 4\n",
      "70 7\n",
      "71 7\n",
      "72 11\n",
      "73 10\n",
      "74 7\n",
      "75 7\n",
      "76 8\n",
      "77 13\n",
      "78 6\n",
      "79 14\n",
      "80 11\n",
      "81 7\n",
      "82 11\n",
      "83 12\n",
      "84 7\n",
      "85 7\n",
      "86 5\n",
      "87 12\n",
      "88 5\n",
      "89 6\n",
      "90 11\n",
      "91 9\n",
      "92 9\n",
      "93 8\n",
      "94 15\n",
      "95 8\n",
      "96 5\n",
      "97 14\n",
      "98 8\n",
      "99 11\n",
      "100 9\n"
     ]
    }
   ],
   "source": [
    "def sortedcount(filepath):\n",
    "    with open (filepath,'r') as b:\n",
    "        marks_list=b.read()\n",
    "        marks=sorted(list(map(int,marks_list.split())))\n",
    "        #print(marks)\n",
    "        d={}\n",
    "        for i in marks:\n",
    "            d[i] = marks.count(i)\n",
    "        for j,i in d.items():\n",
    "            \n",
    "                \n",
    "            print(j,i)\n",
    "        \n",
    "sortedcount(filepath)"
   ]
  },
  {
   "cell_type": "code",
   "execution_count": 66,
   "metadata": {},
   "outputs": [
    {
     "data": {
      "text/plain": [
       "{1: 'name', 3: 'rollno', 2: 'branch'}"
      ]
     },
     "execution_count": 66,
     "metadata": {},
     "output_type": "execute_result"
    }
   ],
   "source": [
    "d={1:'name',3:\"rollno\",2:\"branch\"}\n",
    "d"
   ]
  },
  {
   "cell_type": "code",
   "execution_count": 51,
   "metadata": {},
   "outputs": [
    {
     "name": "stdout",
     "output_type": "stream",
     "text": [
      "['2']\n"
     ]
    }
   ],
   "source": [
    "for i in d:\n",
    "    d=sorted(str(i))\n",
    "#print(d)"
   ]
  },
  {
   "cell_type": "code",
   "execution_count": 70,
   "metadata": {},
   "outputs": [
    {
     "data": {
      "text/plain": [
       "{1: 'name', 3: 'rollno', 2: 'branch'}"
      ]
     },
     "execution_count": 70,
     "metadata": {},
     "output_type": "execute_result"
    }
   ],
   "source": [
    "\n",
    "d\n"
   ]
  },
  {
   "cell_type": "code",
   "execution_count": 71,
   "metadata": {},
   "outputs": [],
   "source": [
    "d[5]=\"gender\""
   ]
  },
  {
   "cell_type": "code",
   "execution_count": 72,
   "metadata": {},
   "outputs": [
    {
     "data": {
      "text/plain": [
       "{1: 'name', 3: 'rollno', 2: 'branch', 5: 'gender'}"
      ]
     },
     "execution_count": 72,
     "metadata": {},
     "output_type": "execute_result"
    }
   ],
   "source": [
    "d"
   ]
  },
  {
   "cell_type": "code",
   "execution_count": null,
   "metadata": {},
   "outputs": [],
   "source": []
  },
  {
   "cell_type": "code",
   "execution_count": null,
   "metadata": {},
   "outputs": [],
   "source": []
  },
  {
   "cell_type": "code",
   "execution_count": 7,
   "metadata": {},
   "outputs": [
    {
     "data": {
      "text/plain": [
       "7"
      ]
     },
     "execution_count": 7,
     "metadata": {},
     "output_type": "execute_result"
    }
   ],
   "source": [
    "sum([1,2,3],1)"
   ]
  },
  {
   "cell_type": "code",
   "execution_count": 10,
   "metadata": {},
   "outputs": [
    {
     "name": "stdout",
     "output_type": "stream",
     "text": [
      "12\n",
      "not arm\n"
     ]
    }
   ],
   "source": []
  },
  {
   "cell_type": "code",
   "execution_count": null,
   "metadata": {},
   "outputs": [],
   "source": []
  }
 ],
 "metadata": {
  "kernelspec": {
   "display_name": "Python 3",
   "language": "python",
   "name": "python3"
  },
  "language_info": {
   "codemirror_mode": {
    "name": "ipython",
    "version": 3
   },
   "file_extension": ".py",
   "mimetype": "text/x-python",
   "name": "python",
   "nbconvert_exporter": "python",
   "pygments_lexer": "ipython3",
   "version": "3.7.3"
  }
 },
 "nbformat": 4,
 "nbformat_minor": 2
}
