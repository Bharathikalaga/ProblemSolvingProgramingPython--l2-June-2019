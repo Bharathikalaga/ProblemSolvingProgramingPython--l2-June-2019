{
 "cells": [
  {
   "cell_type": "markdown",
   "metadata": {},
   "source": [
    "# Note book Basics"
   ]
  },
  {
   "cell_type": "code",
   "execution_count": 1,
   "metadata": {},
   "outputs": [
    {
     "name": "stdout",
     "output_type": "stream",
     "text": [
      "43\n"
     ]
    }
   ],
   "source": [
    "a=23\n",
    "b=20\n",
    "print(a+b)"
   ]
  },
  {
   "cell_type": "code",
   "execution_count": 2,
   "metadata": {},
   "outputs": [
    {
     "name": "stdout",
     "output_type": "stream",
     "text": [
      "3\n"
     ]
    }
   ],
   "source": [
    "a=23\n",
    "b=20\n",
    "print(a-b)"
   ]
  },
  {
   "attachments": {
    "img.png": {
     "image/png": "[encoded data removed]"
    }
   },
   "cell_type": "markdown",
   "metadata": {},
   "source": [
    "### Markdown Basics\n",
    "* **Bold** (it bolds the data)\n",
    "* *italic*  (change the text style)\n",
    "* ***IB***   (Italic with bold)\n",
    "* normal text ( we want normal text)\n",
    "    * Sublist  (Sub lines with .)\n",
    "    * sublist\n",
    "    \n",
    "    \n",
    "1. Odered list element 1 \n",
    "2. ordered list element 2 \n",
    "\n",
    "\n",
    "- [] Option1 \n",
    "- [] Option2 \n",
    "- [x] option3 \n",
    "![jupyter.png.png]![img.png](attachment:img.png)\n",
    " jdhgdgjhdjshg <br>\n",
    " ksdkjhj <br>\n",
    " ddkjhdhgsd <br>\n",
    "  jsdhkjsgdjhg <br>\n",
    " sdskjndkj <br>\n",
    "\n",
    "<img src=\"img.png\" align=\"right\">\n",
    "\n",
    "* [gmail](https://accounts.google.com)\n",
    "* [youtube](https://www.youtube.com/)    (It links to thr you tube website)\n",
    "\n",
    "\n",
    "\n",
    "\n",
    "\n"
   ]
  },
  {
   "cell_type": "markdown",
   "metadata": {},
   "source": [
    "## Python Basics\n",
    "Python version3.7"
   ]
  },
  {
   "cell_type": "code",
   "execution_count": 10,
   "metadata": {},
   "outputs": [
    {
     "name": "stdout",
     "output_type": "stream",
     "text": [
      "good Afternoon! how do you do Hello python\n"
     ]
    }
   ],
   "source": [
    "#python comments\n",
    "\n",
    "print(\"good Afternoon!\", \"how do you do\",end=\" \") # Basic Output(\"**end=good Afternoon! how do you do Hello python\"**)\n",
    "print(\"Hello python\")\n"
   ]
  },
  {
   "cell_type": "markdown",
   "metadata": {},
   "source": [
    "### Assignment"
   ]
  },
  {
   "cell_type": "code",
   "execution_count": 15,
   "metadata": {},
   "outputs": [
    {
     "name": "stdout",
     "output_type": "stream",
     "text": [
      "12345 12345 12345 12345 123 234 345\n"
     ]
    }
   ],
   "source": [
    "n1=12345    #Single variable assignment\n",
    "\n",
    "n2 = n3 = n4 =n1  # multi variable assignment of the different variales\n",
    "a,b,c=123,234,345 # Multi variable `\n",
    "print(n1,n2,n3,n4,end=\" \")\n",
    "print (a,b,c)"
   ]
  },
  {
   "cell_type": "code",
   "execution_count": 13,
   "metadata": {},
   "outputs": [],
   "source": []
  },
  {
   "cell_type": "markdown",
   "metadata": {},
   "source": [
    "# Arithmetic Operators\n",
    "- +\n",
    "- -\n",
    "- %\n",
    "-/\n",
    "- **  (power)\n",
    "- //"
   ]
  },
  {
   "cell_type": "code",
   "execution_count": 30,
   "metadata": {},
   "outputs": [
    {
     "data": {
      "text/plain": [
       "12528328468279800008275836185265394560488525390625"
      ]
     },
     "execution_count": 30,
     "metadata": {},
     "output_type": "execute_result"
    }
   ],
   "source": [
    "n1 % 11\n",
    "n3 = n2 ** 12\n",
    "type(n3)\n",
    "len(str(n3))\n",
    "n3  #(it prints the digits what we gave\"\"12528328468279800008275836185265394560488525390625\"\")\n",
    "\n",
    "\n"
   ]
  },
  {
   "cell_type": "code",
   "execution_count": 31,
   "metadata": {},
   "outputs": [
    {
     "data": {
      "text/plain": [
       "str"
      ]
     },
     "execution_count": 31,
     "metadata": {},
     "output_type": "execute_result"
    }
   ],
   "source": [
    "atoms=10**82\n",
    "len(str(atoms))\n",
    "type(str(atoms))  # it prints the type od data\n"
   ]
  },
  {
   "cell_type": "markdown",
   "metadata": {},
   "source": [
    "# Data Types\n",
    "- int\n",
    "- float\n",
    "- srting\n",
    "- double"
   ]
  },
  {
   "cell_type": "code",
   "execution_count": 42,
   "metadata": {},
   "outputs": [
    {
     "data": {
      "text/plain": [
       "str"
      ]
     },
     "execution_count": 42,
     "metadata": {},
     "output_type": "execute_result"
    }
   ],
   "source": [
    "type(a)\n",
    "s1=\"python\"\n",
    "type(s1)\n",
    "\n",
    "f1= 12.34\n",
    "type(f1)\n",
    "\n",
    "float(str(f1))\n",
    "type(f1)\n",
    "s2=str(int(f1))\n",
    "type(s2)\n",
    "\n"
   ]
  },
  {
   "cell_type": "markdown",
   "metadata": {},
   "source": [
    "# Conditionals"
   ]
  },
  {
   "cell_type": "code",
   "execution_count": 46,
   "metadata": {},
   "outputs": [
    {
     "name": "stdout",
     "output_type": "stream",
     "text": [
      "False\n"
     ]
    }
   ],
   "source": [
    "if atoms <10 ** 56:  #true or false boolean values (atoms are less than 10^96 it prints true else false)\n",
    "    print(\"TRUE\")\n",
    "else:\n",
    "    print(\"False\")"
   ]
  },
  {
   "cell_type": "code",
   "execution_count": 48,
   "metadata": {},
   "outputs": [
    {
     "name": "stdout",
     "output_type": "stream",
     "text": [
      "odd\n"
     ]
    }
   ],
   "source": [
    "# chack the number is even\n",
    "n=345\n",
    "if n%2==0:\n",
    "    print(\"even\")\n",
    "else:\n",
    "    print(\"odd\")"
   ]
  },
  {
   "cell_type": "code",
   "execution_count": 52,
   "metadata": {},
   "outputs": [
    {
     "name": "stdout",
     "output_type": "stream",
     "text": [
      "Enter the frst value-2\n",
      "enter the second value-59\n",
      "enter 3rd value-5\n",
      "-2 is the greatest number\n"
     ]
    }
   ],
   "source": [
    "# Find the greatest numbers\n",
    "\n",
    "n1=int(input(\"Enter the frst value\"))\n",
    "n2=int(input(\"enter the second value\"))\n",
    "n3=int(input(\"enter 3rd value\"))\n",
    "if n1>n2 and n1>n3:\n",
    "    print(n1, \"is the greatest number\")\n",
    "elif n2>n3:\n",
    "    print(n2, \"is the greatest number\")\n",
    "else:\n",
    "    print (n3, \"is greatest\")"
   ]
  },
  {
   "cell_type": "code",
   "execution_count": 55,
   "metadata": {},
   "outputs": [
    {
     "name": "stdout",
     "output_type": "stream",
     "text": [
      "enter the year2000\n",
      "leap year\n"
     ]
    }
   ],
   "source": [
    "# Check if ia an leap year\n",
    "\n",
    "year=int(input(\"enter the year\"))\n",
    "if (year%400==0) or(year%4==0 and year%100!=0):\n",
    "    print(\"leap year\")\n",
    "else:\n",
    "    print(\"not leap year\")\n",
    "    \n"
   ]
  },
  {
   "cell_type": "code",
   "execution_count": 63,
   "metadata": {},
   "outputs": [
    {
     "ename": "SyntaxError",
     "evalue": "invalid syntax (<ipython-input-63-c7f65e0d74f8>, line 2)",
     "output_type": "error",
     "traceback": [
      "\u001b[1;36m  File \u001b[1;32m\"<ipython-input-63-c7f65e0d74f8>\"\u001b[1;36m, line \u001b[1;32m2\u001b[0m\n\u001b[1;33m    lower value=int(input(\"ENter lower value\"))\u001b[0m\n\u001b[1;37m              ^\u001b[0m\n\u001b[1;31mSyntaxError\u001b[0m\u001b[1;31m:\u001b[0m invalid syntax\n"
     ]
    }
   ],
   "source": [
    "# Check the number is within the range\n",
    "lower value=int(input(\"ENter lower value\"))\n",
    "upper value=int(input(\"ENter upper value\"))\n",
    "number=int(input(\"ENter number\"))\n",
    "for number in range(lower value,upper value):\n",
    "    Print(\"within range\")\n",
    "else:\n",
    "    print(\"not in range\")"
   ]
  },
  {
   "cell_type": "code",
   "execution_count": 62,
   "metadata": {},
   "outputs": [
    {
     "name": "stdout",
     "output_type": "stream",
     "text": [
      "enter the number12345\n",
      "5\n"
     ]
    }
   ],
   "source": [
    "# caluculate the number of digits in the given number\n",
    "number=int(input(\"enter the number\"))\n",
    "print(len(str(number)))"
   ]
  },
  {
   "cell_type": "code",
   "execution_count": null,
   "metadata": {},
   "outputs": [],
   "source": [
    "#check if number is a multiple of 10\n",
    "number=int(input(\"enter the number\"))\n",
    "if n%10==0:\n",
    "    print(\"number is multiple of 10\")\n",
    "else:\n",
    "    print(\"not a multiple\")"
   ]
  },
  {
   "cell_type": "code",
   "execution_count": 61,
   "metadata": {},
   "outputs": [
    {
     "name": "stdout",
     "output_type": "stream",
     "text": [
      "ENter the number7\n"
     ]
    }
   ],
   "source": [
    "# check if a number is factor of 1000\n",
    "number=int(input(\"ENter the number\"))\n",
    "if(1000%number==0):\n",
    "           print(\"factor of 1000\")\n",
    "else:\n",
    "    print(\"not a factor\")\n",
    "           \n"
   ]
  },
  {
   "cell_type": "code",
   "execution_count": 65,
   "metadata": {},
   "outputs": [
    {
     "name": "stdout",
     "output_type": "stream",
     "text": [
      "equal\n"
     ]
    }
   ],
   "source": [
    "## Check if given string is equal to a number\n",
    "s1=\"12345\"\n",
    "num=12345\n",
    "if (s1==str(num)):\n",
    "    print(\"equal\")\n",
    "else:\n",
    "    print(\"not equal\")\n"
   ]
  },
  {
   "cell_type": "code",
   "execution_count": 66,
   "metadata": {},
   "outputs": [
    {
     "data": {
      "text/plain": [
       "12.5"
      ]
     },
     "execution_count": 66,
     "metadata": {},
     "output_type": "execute_result"
    }
   ],
   "source": [
    "# caluculate the square root of a given number without fuction\n",
    "n=25\n",
    "n*0.5\n"
   ]
  },
  {
   "cell_type": "code",
   "execution_count": 2,
   "metadata": {},
   "outputs": [
    {
     "name": "stdout",
     "output_type": "stream",
     "text": [
      "Enter year2000\n",
      "31622400000000000\n"
     ]
    }
   ],
   "source": [
    "#Claculate the sum of nano seconds\n",
    "# given year is leap year to be considered\n",
    "year=int(input(\"Enter year\"))\n",
    "if(year%400==0) or(year%4==0 and year%100!=0):\n",
    "    print(366*24*60*60*1000000000)\n",
    "else:\n",
    "    print(365*24*60*60*1000000000)\n",
    "    "
   ]
  },
  {
   "cell_type": "code",
   "execution_count": null,
   "metadata": {},
   "outputs": [],
   "source": []
  }
 ],
 "metadata": {
  "kernelspec": {
   "display_name": "Python 3",
   "language": "python",
   "name": "python3"
  },
  "language_info": {
   "codemirror_mode": {
    "name": "ipython",
    "version": 3
   },
   "file_extension": ".py",
   "mimetype": "text/x-python",
   "name": "python",
   "nbconvert_exporter": "python",
   "pygments_lexer": "ipython3",
   "version": "3.7.3"
  }
 },
 "nbformat": 4,
 "nbformat_minor": 2
}
