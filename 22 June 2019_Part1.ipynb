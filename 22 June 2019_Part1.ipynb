{
 "cells": [
  {
   "cell_type": "code",
   "execution_count": 11,
   "metadata": {},
   "outputs": [],
   "source": [
    "fname='Datafiles/mycontacts.txt'\n",
    "f=open(fname,'w')  # if we want previouus content add w+\n",
    "f.write(\"Raj,9834675636,ali@gmail.com\")\n",
    "f.close()"
   ]
  },
  {
   "cell_type": "code",
   "execution_count": 16,
   "metadata": {},
   "outputs": [
    {
     "name": "stdout",
     "output_type": "stream",
     "text": [
      "Raj,9834675636,ali@gmail.comhgashja\n",
      "hgashja\n",
      "ani,9866576576,rani@gmail.com"
     ]
    }
   ],
   "source": [
    "with open(fname,'r') as f:\n",
    "    for line in f.readlines():\n",
    "        print(line,end=\"\")"
   ]
  },
  {
   "cell_type": "code",
   "execution_count": 22,
   "metadata": {},
   "outputs": [],
   "source": [
    "with open(fname,'a') as f:\n",
    "    f.write(\"\\rani,9866576576,rani@gmail.com\")"
   ]
  },
  {
   "cell_type": "code",
   "execution_count": 24,
   "metadata": {},
   "outputs": [
    {
     "name": "stdout",
     "output_type": "stream",
     "text": [
      "['import re\\n', '\\n', 'def phoneNumberValidater(number):\\n', '   pattern = \"^[6-9][0-9]{9}$|^[0][6-9][0-9]{9}$|^[+][9][1][6-9][0-9]{9}$\"\\n', '   if re.match(pattern,str(number)):\\n', '       return True\\n', '   else:\\n', '       return False\\n', '   return\\n', '\\n', 'def emailValidater(email_id):\\n', '   pattern = \"^[0-9a-z][0-9a-z_.]{4,13}[0-9a-z][@][0-9a-z]{3,18}[.][a-z]{2,4}$\"\\n', '   if re.match(pattern,email_id):\\n', '       return True\\n', '   return False \\n', '\\n', 'ani,9866576576,rani@gmail.com']\n"
     ]
    }
   ],
   "source": [
    "with open(fname,'r') as f:\n",
    "    print(f.readlines())"
   ]
  },
  {
   "cell_type": "code",
   "execution_count": 25,
   "metadata": {},
   "outputs": [
    {
     "name": "stdout",
     "output_type": "stream",
     "text": [
      "import re\n",
      "\n",
      "def phoneNumberValidater(number):\n",
      "   pattern = \"^[6-9][0-9]{9}$|^[0][6-9][0-9]{9}$|^[+][9][1][6-9][0-9]{9}$\"\n",
      "   if re.match(pattern,str(number)):\n",
      "       return True\n",
      "   else:\n",
      "       return False\n",
      "   return\n",
      "\n",
      "def emailValidater(email_id):\n",
      "   pattern = \"^[0-9a-z][0-9a-z_.]{4,13}[0-9a-z][@][0-9a-z]{3,18}[.][a-z]{2,4}$\"\n",
      "   if re.match(pattern,email_id):\n",
      "       return True\n",
      "   return False \n",
      "\n",
      "ani,9866576576,rani@gmail.com"
     ]
    }
   ],
   "source": [
    "def listContacts(fname):\n",
    "        with open(fname,'r') as f:\n",
    "            for line in f.readlines():\n",
    "                print(line,end=\"\")\n",
    "fname = 'Packages/validators.py'\n",
    "listContacts(fname)"
   ]
  },
  {
   "cell_type": "code",
   "execution_count": 37,
   "metadata": {},
   "outputs": [
    {
     "data": {
      "text/plain": [
       "[['Raj', '9834675636', 'ali@gmail.comhgashja\\n'],\n",
       " ['hgashja\\n'],\n",
       " ['ani', '9866576576', 'rani@gmail.com']]"
      ]
     },
     "execution_count": 37,
     "metadata": {},
     "output_type": "execute_result"
    }
   ],
   "source": [
    "fname='Datafiles\\mycontacts.txt'\n",
    "def listToCSV(fname):\n",
    "    \n",
    "    with open (fname,'r') as f:\n",
    "        f1=[]\n",
    "        for line in f:\n",
    "    #print(line.split(sep=','))\n",
    "            f1.append(line.split(sep=','))\n",
    "    return f1\n",
    "listToCSV(fname)\n",
    "\n",
    "    "
   ]
  },
  {
   "cell_type": "code",
   "execution_count": 71,
   "metadata": {},
   "outputs": [],
   "source": [
    "def searchContact(fname):\n",
    "    f1=listToCSV(fname)\n",
    "    flag=0\n",
    "    for line in f1:\n",
    "        if line[0]==name:\n",
    "            flag=1\n",
    "            print(','.join(line))\n",
    "        if flag==0:\n",
    "            print('contact not found')\n",
    "    search(fname,'Raj')"
   ]
  },
  {
   "cell_type": "code",
   "execution_count": 70,
   "metadata": {},
   "outputs": [
    {
     "name": "stdout",
     "output_type": "stream",
     "text": [
      "1 2 3 4\n",
      "1234"
     ]
    }
   ],
   "source": [
    "l=input().split()\n",
    "#print(l)\n",
    "for i in l:\n",
    "    print(i,end=\"\")"
   ]
  },
  {
   "cell_type": "code",
   "execution_count": 66,
   "metadata": {},
   "outputs": [
    {
     "name": "stdout",
     "output_type": "stream",
     "text": [
      "67890"
     ]
    }
   ],
   "source": [
    "ll=[6,7,8,9,0]\n",
    "#6789\n",
    "for i in ll:\n",
    "    print(i,end=\"\")\n"
   ]
  },
  {
   "cell_type": "code",
   "execution_count": 1,
   "metadata": {},
   "outputs": [
    {
     "name": "stdout",
     "output_type": "stream",
     "text": [
      "bharathi\n",
      "b,h,a,r,a,t,h,i,"
     ]
    }
   ],
   "source": [
    "name=input()\n",
    "for i in name:\n",
    "    print(i,end=\",\")"
   ]
  },
  {
   "cell_type": "code",
   "execution_count": 7,
   "metadata": {},
   "outputs": [
    {
     "name": "stdout",
     "output_type": "stream",
     "text": [
      "1 2 3 4\n",
      "10\n"
     ]
    }
   ],
   "source": [
    "n=input().split()\n",
    "sum=0\n",
    "for i in n:\n",
    "    sum=sum+int(i)\n",
    "print(sum)"
   ]
  },
  {
   "cell_type": "code",
   "execution_count": null,
   "metadata": {},
   "outputs": [],
   "source": []
  },
  {
   "cell_type": "code",
   "execution_count": 6,
   "metadata": {},
   "outputs": [
    {
     "name": "stdout",
     "output_type": "stream",
     "text": [
      "1,2,3\n",
      "6\n"
     ]
    }
   ],
   "source": [
    "n=input().split(',')\n",
    "total=0\n",
    "for i in n:\n",
    "    total=total+int(i)\n",
    "print(total)"
   ]
  },
  {
   "cell_type": "code",
   "execution_count": 6,
   "metadata": {},
   "outputs": [
    {
     "name": "stdout",
     "output_type": "stream",
     "text": [
      "1,13,4\n"
     ]
    },
    {
     "data": {
      "text/plain": [
       "1"
      ]
     },
     "execution_count": 6,
     "metadata": {},
     "output_type": "execute_result"
    }
   ],
   "source": [
    "s=list(map(int,input().split(',')))\n",
    "min(s)\n"
   ]
  },
  {
   "cell_type": "code",
   "execution_count": 9,
   "metadata": {},
   "outputs": [],
   "source": [
    "s=\"nmfb nfbvj\"\n",
    "L=[1,2,3,4,5]\n",
    "T=(1,2,3,4,5)\n",
    "d={1:2,2:3,3:4}"
   ]
  },
  {
   "cell_type": "code",
   "execution_count": 11,
   "metadata": {},
   "outputs": [
    {
     "name": "stdout",
     "output_type": "stream",
     "text": [
      "n m f b   n f b v j "
     ]
    }
   ],
   "source": [
    "for i in s:\n",
    "    print(i,end=' ')\n",
    "    "
   ]
  },
  {
   "cell_type": "code",
   "execution_count": 29,
   "metadata": {},
   "outputs": [
    {
     "name": "stdout",
     "output_type": "stream",
     "text": [
      "[1, 2, 3, 5, 5]\n"
     ]
    }
   ],
   "source": [
    "for i in range (len(L)):\n",
    "    if L[i]==4:\n",
    "        L[i]=5\n",
    "print(L)"
   ]
  },
  {
   "cell_type": "code",
   "execution_count": 27,
   "metadata": {},
   "outputs": [
    {
     "data": {
      "text/plain": [
       "'nmfb nfbvj'"
      ]
     },
     "execution_count": 27,
     "metadata": {},
     "output_type": "execute_result"
    }
   ],
   "source": [
    "s1=s.replace(\"n\",\"s\")\n",
    "s\n",
    "#print(s)\n",
    "#print(s1)"
   ]
  },
  {
   "cell_type": "code",
   "execution_count": 38,
   "metadata": {},
   "outputs": [
    {
     "name": "stdout",
     "output_type": "stream",
     "text": [
      "{'jaffa': 420, 'college': 'vishnu'}\n"
     ]
    }
   ],
   "source": [
    "d={'jaffa':420,'college':'vishnu'}\n",
    "for key in d.keys():\n",
    "    if d[key]=='jaffa':\n",
    "        d[key]=432\n",
    "print(d)\n",
    "    \n",
    "    "
   ]
  },
  {
   "cell_type": "code",
   "execution_count": 34,
   "metadata": {},
   "outputs": [
    {
     "data": {
      "text/plain": [
       "dict_keys(['jaffa', 'college'])"
      ]
     },
     "execution_count": 34,
     "metadata": {},
     "output_type": "execute_result"
    }
   ],
   "source": [
    "d.keys()"
   ]
  },
  {
   "cell_type": "code",
   "execution_count": 46,
   "metadata": {},
   "outputs": [
    {
     "name": "stdout",
     "output_type": "stream",
     "text": [
      "{'jaffa': 420, 'college': 'vishnu', 'age': 23}\n"
     ]
    }
   ],
   "source": [
    "d={'jaffa':420,'college':'vishnu'}\n",
    "d['age']=23\n",
    "print(d)\n"
   ]
  },
  {
   "cell_type": "code",
   "execution_count": null,
   "metadata": {},
   "outputs": [],
   "source": [
    "n=input().split(',')\n",
    "print(n)\n",
    "t=int(input())\n",
    "l=[]\n",
    "sum=0\n",
    "for item in n:\n",
    "    l.append(item)\n",
    "    x=int(input()).split(',')\n",
    "    for i in x:\n",
    "        sum+=i\n",
    "    print(sum)\n",
    "        \n",
    "print(l)\n",
    "\n",
    "    \n",
    "\n",
    "    \n",
    "    \n",
    "\n"
   ]
  },
  {
   "cell_type": "code",
   "execution_count": null,
   "metadata": {},
   "outputs": [],
   "source": []
  }
 ],
 "metadata": {
  "kernelspec": {
   "display_name": "Python 3",
   "language": "python",
   "name": "python3"
  },
  "language_info": {
   "codemirror_mode": {
    "name": "ipython",
    "version": 3
   },
   "file_extension": ".py",
   "mimetype": "text/x-python",
   "name": "python",
   "nbconvert_exporter": "python",
   "pygments_lexer": "ipython3",
   "version": "3.7.3"
  }
 },
 "nbformat": 4,
 "nbformat_minor": 2
}
