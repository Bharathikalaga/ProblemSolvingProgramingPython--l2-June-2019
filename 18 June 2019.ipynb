{
 "cells": [
  {
   "cell_type": "code",
   "execution_count": null,
   "metadata": {},
   "outputs": [],
   "source": [
    "# Check perfect number\n",
    "def perfectnum(n):\n",
    "    sum=0\n",
    "    for i in range(1,n):\n",
    "        if n%i==0:\n",
    "            sum=sum+i\n",
    "    #return sum\n",
    "    if sum==n:\n",
    "        return \"YES\"\n",
    "    else:\n",
    "        return \"NO\"\n",
    "t=int(input())\n",
    "for i in range(t):\n",
    "    n=int(input())\n",
    "    #print(perfectnum(n))\n",
    "    print(perfectnum(n))"
   ]
  },
  {
   "cell_type": "code",
   "execution_count": null,
   "metadata": {},
   "outputs": [],
   "source": [
    "def highestRem(n):\n",
    "    list=[]\n",
    "    remList=[]\n",
    "    for j in range(2,n):\n",
    "        rem=n%j\n",
    "        remList.append(rem)\n",
    "        list.append(j)\n",
    "    index=remList.index(max(remList))\n",
    "    return list[index]\n",
    "t=int(input())\n",
    "for i in range(t):\n",
    "    n=int(input())\n",
    "    print(highestRem(n))"
   ]
  },
  {
   "cell_type": "code",
   "execution_count": null,
   "metadata": {},
   "outputs": [],
   "source": [
    "def count(s):\n",
    "    count=0\n",
    "    count1=0\n",
    "    count2=0\n",
    "    for i in s:\n",
    "        if i.isdigit():\n",
    "            count=count+1\n",
    "            #return count\n",
    "        elif i.isalpha():\n",
    "            count1=count1+1\n",
    "            #return count1\n",
    "    #count2=count1+count\n",
    "        else:\n",
    "            count2=count2+1\n",
    "    return (count,count1,count2)\n",
    "#t=int(input())\n",
    "#for i in range(t):\n",
    "s=input()\n",
    "print(count(s))"
   ]
  },
  {
   "cell_type": "code",
   "execution_count": null,
   "metadata": {},
   "outputs": [],
   "source": [
    "def isPrime(n):\n",
    "    f=True\n",
    "    for i in range (2,n):\n",
    "        if n%i==0:\n",
    "            return False\n",
    "    return f\n",
    "def dictinicPrimeFactors(n):\n",
    "    count=0\n",
    "    for v in range(2,n):\n",
    "        if n%v==0 and isPrime(v):\n",
    "            count=count+1\n",
    "    if count>=p:\n",
    "        return\"Yes\"\n",
    "    else:\n",
    "        return\"No\"     \n",
    "\n",
    "\n",
    "p=int(input()) #distinict prime factors\n",
    "t=int(input())  # no.of test cases\n",
    "for i in range (t):\n",
    "    n=int(input())\n",
    "    print(dictinicPrimeFactors(n))"
   ]
  },
  {
   "cell_type": "markdown",
   "metadata": {},
   "source": [
    "# Tuples\n",
    "* t1=()\n",
    "* li=[]\n",
    "* difference between lists and tuples\n",
    "* lists are mutable-can be changes/modified\n",
    "  - used to access,Modified,delete add data\n",
    "  * Tiples are immutable-cannot be change once initialised\n",
    "- Used to Access data only\n",
    "- All Slicing work"
   ]
  },
  {
   "cell_type": "code",
   "execution_count": null,
   "metadata": {},
   "outputs": [],
   "source": [
    "t=(1,2,3,4,5,6,7)\n",
    "t[3]  # Accessing the 4th element\n",
    "t[len(t)//2:]  # accessing the data of middle to end\n",
    "type(t)\n",
    "\n"
   ]
  },
  {
   "cell_type": "code",
   "execution_count": null,
   "metadata": {},
   "outputs": [],
   "source": [
    "dir(tuple)"
   ]
  },
  {
   "cell_type": "markdown",
   "metadata": {},
   "source": [
    "# Dictionary\n",
    "\n",
    "- works on the concept of set\n",
    "   - Unique data\n",
    "  * keys,value\n",
    "  * key is the unique identifier for a value\n",
    "  * value is data that can be accessed with a key\n",
    "  "
   ]
  },
  {
   "cell_type": "code",
   "execution_count": null,
   "metadata": {},
   "outputs": [],
   "source": [
    "d1={\"k1\":\"value\",\"k2\":\"value2\"}\n",
    "print(d1[\"k2\"])  # Accessing the value with keys [k2]\n",
    "print(d1.keys())  # Acc all keys\n",
    "print(d1.values())  # Acc all values\n",
    "print(d1.items())  # returns list of tuples of keys and values\n",
    "d1[3]=\"value\"  # adding an element\n",
    "d1[\"k4\"]=\"value\"#modifying the elemwnt\n",
    "print(d1)\n",
    "d1.pop(3)\n",
    "\"k3\" in d1 # checking the key in dictionary\n",
    "d1[\"k3\"]=\"value4\"\n",
    "d1\n",
    "\n"
   ]
  },
  {
   "cell_type": "markdown",
   "metadata": {},
   "source": [
    "### Contacts Application\n",
    "- Add contact\n",
    "- search for contact\n",
    "- list all cintacts\n",
    "- modify contact\n",
    "- remove contact"
   ]
  },
  {
   "cell_type": "code",
   "execution_count": null,
   "metadata": {},
   "outputs": [],
   "source": [
    "contact={}\n",
    "def addontact(name,phone):\n",
    "    if name not in contact:\n",
    "        contact[name]=phone\n",
    "        print(\"contact added\")\n",
    "    else:\n",
    "        print(\"Contacts %s already exist\" %name)\n",
    "    return\n",
    "addontact(\"name\",\"123456789\")\n"
   ]
  },
  {
   "cell_type": "code",
   "execution_count": null,
   "metadata": {},
   "outputs": [],
   "source": [
    "def searchcontact(name):\n",
    "    if name  in contact:\n",
    "        #contact[name]=phone\n",
    "        #name.remove()\n",
    "        print(name,\":\",contact[name])\n",
    "    else:\n",
    "        print(\"contact doesnt exist\")\n",
    "searchcontact(\"name\")"
   ]
  },
  {
   "cell_type": "code",
   "execution_count": null,
   "metadata": {},
   "outputs": [],
   "source": [
    "def removeContact(name):\n",
    "    if name in contact:\n",
    "        contacts.pop(name)\n",
    "        "
   ]
  },
  {
   "cell_type": "code",
   "execution_count": null,
   "metadata": {},
   "outputs": [],
   "source": [
    "def importcontacts(newcontacts):\n",
    "   contact.update(newcontacts)\n",
    "   print(len(newcontacts.keys()),\"contacts added successfully\")\n",
    "   return\n",
    "\n",
    "newcontacts={\"name2\":7702072905,\"name3\":7337475699}\n",
    "\n",
    "importcontacts(newcontacts)\n"
   ]
  },
  {
   "cell_type": "code",
   "execution_count": null,
   "metadata": {},
   "outputs": [],
   "source": []
  },
  {
   "cell_type": "code",
   "execution_count": null,
   "metadata": {},
   "outputs": [],
   "source": [
    "contact"
   ]
  },
  {
   "cell_type": "code",
   "execution_count": null,
   "metadata": {},
   "outputs": [],
   "source": [
    "contact.pop('name')"
   ]
  },
  {
   "cell_type": "code",
   "execution_count": null,
   "metadata": {},
   "outputs": [],
   "source": [
    "contact"
   ]
  },
  {
   "cell_type": "code",
   "execution_count": null,
   "metadata": {},
   "outputs": [],
   "source": [
    "contact.items()"
   ]
  },
  {
   "cell_type": "code",
   "execution_count": null,
   "metadata": {},
   "outputs": [],
   "source": [
    "def contactinlist(contact):\n",
    "    for keys,values in contact.items():\n",
    "        print(keys,\":\",values)\n",
    "contactinlist(contact)"
   ]
  },
  {
   "cell_type": "code",
   "execution_count": null,
   "metadata": {},
   "outputs": [],
   "source": [
    "contact\n",
    "contact[\"name2\"]=789999\n",
    "contact"
   ]
  },
  {
   "cell_type": "code",
   "execution_count": null,
   "metadata": {},
   "outputs": [],
   "source": [
    "contact.pop(\"name2\")\n"
   ]
  },
  {
   "cell_type": "code",
   "execution_count": null,
   "metadata": {},
   "outputs": [],
   "source": [
    "contact\n"
   ]
  },
  {
   "cell_type": "markdown",
   "metadata": {},
   "source": [
    "# Packages and modules:\n",
    "** package**\n",
    "- package is a collection of modules(python file.py)\n",
    "** sub package**\n",
    "\n",
    "** Modules** A single python file con\n",
    "package--> subpackage->modules->fumctions\n"
   ]
  },
  {
   "cell_type": "code",
   "execution_count": null,
   "metadata": {},
   "outputs": [],
   "source": [
    "from math import floor ,pi # math contains inside functions\n",
    "floor(123.456)\n",
    "pi\n"
   ]
  },
  {
   "cell_type": "code",
   "execution_count": null,
   "metadata": {},
   "outputs": [],
   "source": [
    "from math import floor as f1\n",
    "f1(123.456)"
   ]
  },
  {
   "cell_type": "code",
   "execution_count": null,
   "metadata": {},
   "outputs": [],
   "source": [
    "# Function to generate N random Numbers\n",
    "import random\n",
    "def randomNumbers(n,lb,ub):\n",
    "    for i in range(n):\n",
    "        print(random.randint(lb,ub), end=\" \")\n",
    "randomNumbers(10,0,100)"
   ]
  },
  {
   "cell_type": "code",
   "execution_count": null,
   "metadata": {},
   "outputs": [],
   "source": [
    "\n"
   ]
  },
  {
   "cell_type": "code",
   "execution_count": 1,
   "metadata": {},
   "outputs": [
    {
     "data": {
      "text/plain": [
       "'GDH'"
      ]
     },
     "execution_count": 1,
     "metadata": {},
     "output_type": "execute_result"
    }
   ],
   "source": [
    "from Packages import numerical\n",
    "numerical.isPrime(5)\n",
    "numerical.factorial(5)\n",
    "numerical.upper(\"gdh\")"
   ]
  },
  {
   "cell_type": "code",
   "execution_count": null,
   "metadata": {},
   "outputs": [],
   "source": []
  },
  {
   "cell_type": "code",
   "execution_count": null,
   "metadata": {},
   "outputs": [],
   "source": []
  }
 ],
 "metadata": {
  "kernelspec": {
   "display_name": "Python 3",
   "language": "python",
   "name": "python3"
  },
  "language_info": {
   "codemirror_mode": {
    "name": "ipython",
    "version": 3
   },
   "file_extension": ".py",
   "mimetype": "text/x-python",
   "name": "python",
   "nbconvert_exporter": "python",
   "pygments_lexer": "ipython3",
   "version": "3.7.3"
  }
 },
 "nbformat": 4,
 "nbformat_minor": 2
}
