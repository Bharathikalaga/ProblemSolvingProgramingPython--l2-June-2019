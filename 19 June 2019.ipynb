{
 "cells": [
  {
   "cell_type": "code",
   "execution_count": null,
   "metadata": {},
   "outputs": [],
   "source": [
    "# Cost Of Baloons\n",
    "def costOfBAloons(partg,partp,costbln):\n",
    "    costbln_outg=sum(partg)\n",
    "    costbln_outp=sum(partp)\n",
    "    \n",
    "    return (max(costbln_outg,costbln_outp)*min(costbln))+(max(costbln)*min(costbln_outg,costbln_outp))\n",
    "test=int(input())\n",
    "for t in range(test):\n",
    "    partg=[] # list of \n",
    "    partp=[]\n",
    "    costbln=list(map(int,input().split()))\n",
    "    prtcpn=int(input())\n",
    "    for part in range(prtcpn):\n",
    "        part=list(map(int,input().split()))\n",
    "        partg.append(part[0])\n",
    "        partp.append(part[1])\n",
    "    print(costOfBAloons(partg,partp,costbln))"
   ]
  },
  {
   "cell_type": "code",
   "execution_count": 2,
   "metadata": {},
   "outputs": [
    {
     "name": "stdout",
     "output_type": "stream",
     "text": [
      "13\n",
      "Motu\n"
     ]
    }
   ],
   "source": [
    "# Bricks Game \n",
    "n = int(input()) #13\n",
    "i = 1\n",
    "while n> i*3:\n",
    "    n = n-(i*3)\n",
    "    i+=1\n",
    "if n > i:\n",
    "    print('Motu')\n",
    "else: \n",
    "    print('Patlu')"
   ]
  },
  {
   "cell_type": "code",
   "execution_count": null,
   "metadata": {},
   "outputs": [],
   "source": [
    "# E Maizein\n",
    "def emazein(S):\n",
    "    x=0\n",
    "    y=0\n",
    "    for i in(S):\n",
    "        if i=='L':  # left right are taken as x-axis\n",
    "            x-=1\n",
    "        elif i=='R':\n",
    "            x+=1\n",
    "        elif i=='D':  #up and down taken as a y-axis\n",
    "            y-=1\n",
    "        elif i==\"U\":\n",
    "            y+=1\n",
    "    print(x,y)\n",
    "S=input()\n",
    "emazein(S)"
   ]
  },
  {
   "cell_type": "code",
   "execution_count": null,
   "metadata": {},
   "outputs": [],
   "source": [
    "def findBookOfPotionMaking(s):\n",
    "    summ=0\n",
    "    i=1\n",
    "    for cr in s:\n",
    "        value=int(cr)*i\n",
    "        summ += value\n",
    "        i+=1\n",
    "    if summ%11==0:\n",
    "        print(\"Legal ISBN\")\n",
    "    else:\n",
    "        print(\"Illegal ISBN\")\n",
    "s=input()\n",
    "findBookOfPotionMaking(s)"
   ]
  },
  {
   "cell_type": "code",
   "execution_count": null,
   "metadata": {},
   "outputs": [],
   "source": []
  }
 ],
 "metadata": {
  "kernelspec": {
   "display_name": "Python 3",
   "language": "python",
   "name": "python3"
  },
  "language_info": {
   "codemirror_mode": {
    "name": "ipython",
    "version": 3
   },
   "file_extension": ".py",
   "mimetype": "text/x-python",
   "name": "python",
   "nbconvert_exporter": "python",
   "pygments_lexer": "ipython3",
   "version": "3.7.3"
  }
 },
 "nbformat": 4,
 "nbformat_minor": 2
}
