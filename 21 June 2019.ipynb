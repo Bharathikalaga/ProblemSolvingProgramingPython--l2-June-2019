{
 "cells": [
  {
   "cell_type": "code",
   "execution_count": 6,
   "metadata": {},
   "outputs": [
    {
     "name": "stdout",
     "output_type": "stream",
     "text": [
      "n9 added to contacts\n"
     ]
    }
   ],
   "source": [
    "#from Packages.validators import phoneNumberValidater as phnoval\n",
    "from Packages.validators import emailValidater as email,phoneNumberValidater as phnoval\n",
    "def addContact(name,phone,email):\n",
    "    \n",
    "    # store data as name,phone,email in the contacts\n",
    "    filename='Datafiles/contacts.txt'\n",
    "    if not checkContactExists(name):\n",
    "        if phnoval and email:\n",
    "            with open(filename,'a') as f:\n",
    "                line=name+','+phone+','+email+'\\n'\n",
    "                f.write(line)\n",
    "            print(name,'added to contacts')\n",
    "    return\n",
    "addContact(\"n9\",'9874738727',\"name1_23@gmail.com\")"
   ]
  },
  {
   "cell_type": "code",
   "execution_count": 5,
   "metadata": {},
   "outputs": [
    {
     "name": "stdout",
     "output_type": "stream",
     "text": [
      "True\n"
     ]
    },
    {
     "data": {
      "text/plain": [
       "<re.Match object; span=(0, 5), match='name1'>"
      ]
     },
     "execution_count": 5,
     "metadata": {},
     "output_type": "execute_result"
    }
   ],
   "source": [
    "import re\n",
    "# Fumction to check if contact already exists\n",
    "def checkContactExists(name):\n",
    "    filename='Datafiles/contacts.txt'\n",
    "    \n",
    "    with open(filename,'r') as f:\n",
    "        filedata=f.read()\n",
    "    return re.search(name,filedata)\n",
    "if checkContactExists('name1'):\n",
    "    print(\"True\")\n",
    "else:\n",
    "    print(\"False\")\n",
    "checkContactExists('name1')"
   ]
  },
  {
   "cell_type": "code",
   "execution_count": 7,
   "metadata": {},
   "outputs": [
    {
     "data": {
      "text/plain": [
       "'name1,9874738727,name1_23@gmail.com\\nname2,9874738727,name1_23@gmail.com\\nname3,9874738727,name1_23@gmail.com\\nn9,9874738727,name1_23@gmail.com\\n'"
      ]
     },
     "execution_count": 7,
     "metadata": {},
     "output_type": "execute_result"
    }
   ],
   "source": [
    "filename='Datafiles/contacts.txt'\n",
    "def csvToList(filename):\n",
    "    li=[]\n",
    "    with open(filename,'r') as f:\n",
    "        for line in f:\n",
    "            li.append(line.split(','))\n",
    "    return li\n",
    "csvToList(filename)\n",
    "\n",
    "\n",
    "def listToFile(li):\n",
    "    s=''\n",
    "    for i in li:\n",
    "        s+=\",\".join(i)\n",
    "    return s\n",
    "li=csvToList(filename)\n",
    "listToFile(li)\n"
   ]
  },
  {
   "cell_type": "code",
   "execution_count": 8,
   "metadata": {},
   "outputs": [
    {
     "data": {
      "text/plain": [
       "'n9,9874738727,name1_23@gmail.com\\n'"
      ]
     },
     "execution_count": 8,
     "metadata": {},
     "output_type": "execute_result"
    }
   ],
   "source": [
    "def searchforcontact(name):\n",
    "    fl = csvToList(filename)\n",
    "    for line in fl:\n",
    "        flag = 0\n",
    "        if name in line[0]:\n",
    "            flag = 1\n",
    "            return \",\".join(line)  \n",
    "    return \n",
    "searchforcontact(\"n9\")\n",
    "    "
   ]
  },
  {
   "cell_type": "code",
   "execution_count": 10,
   "metadata": {},
   "outputs": [
    {
     "data": {
      "text/plain": [
       "[['name1', '9874738727', 'name1_23@gmail.com\\n'],\n",
       " ['name2', '9874738727', 'name1_23@gmail.com\\n'],\n",
       " ['name3', '9874738727', 'name1_23@gmail.com\\n'],\n",
       " ['n9', '9874738727', 'name1_23@gmail.com\\n']]"
      ]
     },
     "execution_count": 10,
     "metadata": {},
     "output_type": "execute_result"
    }
   ],
   "source": [
    "filename = \"DataFiles/contacts.txt\"\n",
    "def csvtoList(filename):\n",
    "    li = []\n",
    "    with open(filename, 'r') as f:\n",
    "        for line in f:\n",
    "            li.append(line.split(\",\"))\n",
    "    return li\n",
    "li = csvtoList(filename)\n",
    "li\n"
   ]
  },
  {
   "cell_type": "code",
   "execution_count": 11,
   "metadata": {},
   "outputs": [
    {
     "data": {
      "text/plain": [
       "3"
      ]
     },
     "execution_count": 11,
     "metadata": {},
     "output_type": "execute_result"
    }
   ],
   "source": [
    "def searchwithreturn(fname,name):\n",
    "    fl = csvToList(filename)\n",
    "    flag = 0\n",
    "    for i in range(len(fl)):\n",
    "        if name == fl[i][0]:\n",
    "            flag = 1\n",
    "            return i\n",
    "    if flag == 0:\n",
    "        return -1\n",
    "searchwithreturn(\"Datafiles/contacts.txt\",\"n9\")"
   ]
  },
  {
   "cell_type": "code",
   "execution_count": 12,
   "metadata": {},
   "outputs": [],
   "source": [
    "def removecontact(fname,name):\n",
    "    i = searchwithreturn(fname,name)\n",
    "    if i != -1:\n",
    "        fl = csvToList(filename)\n",
    "        fl.pop(i)\n",
    "        a = listToFile(fl)\n",
    "        with open(fname,'w') as f:\n",
    "            f.write(a)\n",
    "    else:\n",
    "        print(\"not found\")\n",
    "removecontact(\"Datafiles/contacts.txt\",\"name1\")\n"
   ]
  },
  {
   "cell_type": "code",
   "execution_count": null,
   "metadata": {},
   "outputs": [],
   "source": []
  },
  {
   "cell_type": "code",
   "execution_count": 13,
   "metadata": {},
   "outputs": [],
   "source": [
    "def modifycontacts(fname,name,phone,email):\n",
    "    i = searchwithreturn(fname,name)\n",
    "    if i != -1:\n",
    "        fl = csvtoList(filename)\n",
    "        modified_line = fl[i]\n",
    "        modified_line[0] ='bharathi'\n",
    "        modified_line[1] = '9356745534'\n",
    "        fl[i] = modified_line\n",
    "        a = listoFile(fl)\n",
    "        with open(fname,'w') as f:\n",
    "            f.write(a)\n",
    "    else:\n",
    "        print(\"not found\")\n",
    "            \n",
    "modifycontacts(\"DataFiles/contacts.txt\",\"name3\",\"9874738727\",\"name1_23@gmail.com\")"
   ]
  },
  {
   "cell_type": "code",
   "execution_count": null,
   "metadata": {},
   "outputs": [],
   "source": []
  }
 ],
 "metadata": {
  "kernelspec": {
   "display_name": "Python 3",
   "language": "python",
   "name": "python3"
  },
  "language_info": {
   "codemirror_mode": {
    "name": "ipython",
    "version": 3
   },
   "file_extension": ".py",
   "mimetype": "text/x-python",
   "name": "python",
   "nbconvert_exporter": "python",
   "pygments_lexer": "ipython3",
   "version": "3.7.3"
  }
 },
 "nbformat": 4,
 "nbformat_minor": 2
}
