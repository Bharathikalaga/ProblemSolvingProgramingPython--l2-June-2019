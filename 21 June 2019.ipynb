{
 "cells": [
  {
   "cell_type": "code",
   "execution_count": 15,
   "metadata": {},
   "outputs": [
    {
     "name": "stdout",
     "output_type": "stream",
     "text": [
      "n9 added to contacts\n"
     ]
    }
   ],
   "source": [
    "#from Packages.validators import phoneNumberValidater as phnoval\n",
    "from Packages.validators import emailValidater as email,phoneNumberValidater as phnoval\n",
    "def addContact(name,phone,email):\n",
    "    \n",
    "    # store data as name,phone,email in the contacts\n",
    "    filename='Datafiles/contacts.txt'\n",
    "    if not checkContactExists(name):\n",
    "        if phnoval and email:\n",
    "            with open(filename,'a') as f:\n",
    "                line=name+','+phone+','+email+'\\n'\n",
    "                f.write(line)\n",
    "            print(name,'added to contacts')\n",
    "    return\n",
    "addContact(\"n9\",'9874738727',\"name1_23@gmail.com\")"
   ]
  },
  {
   "cell_type": "code",
   "execution_count": 5,
   "metadata": {},
   "outputs": [
    {
     "data": {
      "text/plain": [
       "<re.Match object; span=(0, 5), match='name1'>"
      ]
     },
     "execution_count": 5,
     "metadata": {},
     "output_type": "execute_result"
    }
   ],
   "source": [
    "import re\n",
    "# Fumction to check if contact already exists\n",
    "def checkContactExists(name):\n",
    "    filename='Datafiles/contacts.txt'\n",
    "    \n",
    "    with open(filename,'r') as f:\n",
    "        filedata=f.read()\n",
    "    return re.search(name,filedata)\n",
    "if checkContactExists('name1'):\n",
    "    print(\"True\")\n",
    "else:\n",
    "    print(\"False\")\n",
    "checkContactExists('name1')"
   ]
  },
  {
   "cell_type": "code",
   "execution_count": 31,
   "metadata": {},
   "outputs": [
    {
     "data": {
      "text/plain": [
       "'name1,9874738727,name1_23@gmail.com\\nname1,9874738727,name1_23@gmail.com\\nname1,9874738727,name1_23@gmail.com\\n'"
      ]
     },
     "execution_count": 31,
     "metadata": {},
     "output_type": "execute_result"
    }
   ],
   "source": [
    "filename='Datafiles/contacts.txt'\n",
    "def csvToList(filename):\n",
    "    li=[]\n",
    "    with open(filename,'r') as f:\n",
    "        for line in f:\n",
    "            li.append(line.split(','))\n",
    "    return li\n",
    "csvToList(filename)\n",
    "\n",
    "\n",
    "def listToFile(li):\n",
    "    s=''\n",
    "    for i in li:\n",
    "        s+=\",\".join(i)\n",
    "    return s\n",
    "li=csvToList(filename)\n",
    "listToFile(li)\n"
   ]
  },
  {
   "cell_type": "code",
   "execution_count": null,
   "metadata": {},
   "outputs": [],
   "source": [
    "\n",
    "    "
   ]
  }
 ],
 "metadata": {
  "kernelspec": {
   "display_name": "Python 3",
   "language": "python",
   "name": "python3"
  },
  "language_info": {
   "codemirror_mode": {
    "name": "ipython",
    "version": 3
   },
   "file_extension": ".py",
   "mimetype": "text/x-python",
   "name": "python",
   "nbconvert_exporter": "python",
   "pygments_lexer": "ipython3",
   "version": "3.7.3"
  }
 },
 "nbformat": 4,
 "nbformat_minor": 2
}
