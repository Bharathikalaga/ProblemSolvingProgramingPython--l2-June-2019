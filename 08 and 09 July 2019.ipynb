{
 "cells": [
  {
   "cell_type": "markdown",
   "metadata": {},
   "source": [
    "# Practiced tasks:"
   ]
  },
  {
   "cell_type": "code",
   "execution_count": 2,
   "metadata": {},
   "outputs": [
    {
     "name": "stdout",
     "output_type": "stream",
     "text": [
      "1\n",
      "10\n",
      "6\n"
     ]
    }
   ],
   "source": [
    "# Function to print all numbers divisible by 6 and not a factor of 100 in a given range(lb, ub) inclusive\n",
    "def numDivisible(start,end):\n",
    "    for i in range(start,end+1):\n",
    "        if i % 6 ==0 and 100 % i !=0:\n",
    "            return i\n",
    "    \n",
    "start = int(input())\n",
    "end = int(input())\n",
    "print(numDivisible(start,end))"
   ]
  },
  {
   "cell_type": "code",
   "execution_count": 5,
   "metadata": {},
   "outputs": [
    {
     "name": "stdout",
     "output_type": "stream",
     "text": [
      "2\n",
      "6\n",
      "96\n"
     ]
    }
   ],
   "source": [
    "# Function to find the average of cubes of all even numbers in a given range(lb, ub) inclusive\n",
    "def cub(srat,end):\n",
    "    average =0\n",
    "    count =0\n",
    "    for i in range(start,end+1):\n",
    "        if i % 2 ==0:\n",
    "            cube = i**3\n",
    "            average+=cube\n",
    "            count+=1\n",
    "    return(average//count)\n",
    "            \n",
    "    \n",
    "    \n",
    "start = int(input())\n",
    "end = int(input())\n",
    "print(cub(start,end))"
   ]
  },
  {
   "cell_type": "code",
   "execution_count": 9,
   "metadata": {},
   "outputs": [
    {
     "name": "stdout",
     "output_type": "stream",
     "text": [
      "6\n",
      "1\n",
      "2\n",
      "3\n",
      "6\n"
     ]
    }
   ],
   "source": [
    "# Function to generate the list of factors for a given number\n",
    "def factors(n):\n",
    "    for i in range(1,n+1):\n",
    "        if n % i == 0:\n",
    "            print(i)\n",
    "            \n",
    "    \n",
    "    \n",
    "n = int(input())\n",
    "factors(n)"
   ]
  },
  {
   "cell_type": "code",
   "execution_count": 26,
   "metadata": {},
   "outputs": [
    {
     "name": "stdout",
     "output_type": "stream",
     "text": [
      "5\n",
      "120\n"
     ]
    }
   ],
   "source": [
    "# Function to calculate the factorial of a given number\n",
    "def factorial(n):\n",
    "    fact = 1\n",
    "    for i in range(1,n+1):\n",
    "        if n==1 or n==0:\n",
    "            return 1\n",
    "        else:\n",
    "            fact = fact*i\n",
    "    return(fact)\n",
    "             \n",
    "n = int(input())\n",
    "print(factorial(n))"
   ]
  },
  {
   "cell_type": "code",
   "execution_count": 7,
   "metadata": {},
   "outputs": [
    {
     "name": "stdout",
     "output_type": "stream",
     "text": [
      "11\n"
     ]
    },
    {
     "data": {
      "text/plain": [
       "True"
      ]
     },
     "execution_count": 7,
     "metadata": {},
     "output_type": "execute_result"
    }
   ],
   "source": [
    "# Function to check if a given number is Prime\n",
    "def isPrime(n):\n",
    "    for i in range(2,n//2):\n",
    "        if n%i == 0:\n",
    "            return False\n",
    "    return True\n",
    "        \n",
    "    \n",
    "    \n",
    "n = int(input())\n",
    "isPrime(n)"
   ]
  },
  {
   "cell_type": "code",
   "execution_count": 10,
   "metadata": {},
   "outputs": [
    {
     "name": "stdout",
     "output_type": "stream",
     "text": [
      "2\n",
      "11\n"
     ]
    },
    {
     "data": {
      "text/plain": [
       "5"
      ]
     },
     "execution_count": 10,
     "metadata": {},
     "output_type": "execute_result"
    }
   ],
   "source": [
    "# Function to calculate the average first N Prime numbers\n",
    "def avgPrimeNum(lb,ub):\n",
    "    s = 0\n",
    "    c = 0\n",
    "    for i in range(lb,ub+1):\n",
    "        if  isPrime(i):\n",
    "            s = s+i\n",
    "            c = c+1\n",
    "    return(s//c)\n",
    "            \n",
    "    \n",
    "    \n",
    "lb= int(input())\n",
    "ub = int(input())\n",
    "avgPrimeNum(lb,ub)\n"
   ]
  },
  {
   "cell_type": "code",
   "execution_count": 25,
   "metadata": {},
   "outputs": [
    {
     "name": "stdout",
     "output_type": "stream",
     "text": [
      "1\n",
      "28\n",
      "6\n",
      "28\n"
     ]
    }
   ],
   "source": [
    "# Function to generate all Perfect numbers in a given range\n",
    "def isperfect(n):\n",
    "    s = 0\n",
    "    for i in range(1,n):\n",
    "        if n % i==0:\n",
    "            s+=i\n",
    "    if s == n:\n",
    "        return True\n",
    "    return False\n",
    "#n =int(input())\n",
    "#isperfect(n)\n",
    "def perfectrange(lb,ub):\n",
    "    for i in range(lb,ub+1):\n",
    "        if isperfect(i):\n",
    "            print(i)\n",
    "    \n",
    "lb = int(input())\n",
    "ub = int(input())\n",
    "perfectrange(lb,ub)    \n",
    "    \n",
    "    "
   ]
  },
  {
   "cell_type": "code",
   "execution_count": 29,
   "metadata": {},
   "outputs": [
    {
     "name": "stdout",
     "output_type": "stream",
     "text": [
      "6\n",
      "29\n",
      "6\n",
      "28\n"
     ]
    }
   ],
   "source": [
    "def perfectrange(lb,ub):\n",
    "    for i in range(lb,ub):\n",
    "        if isperfect(i):\n",
    "            print(i)\n",
    "    \n",
    "lb = int(input())\n",
    "ub = int(input())\n",
    "perfectrange(lb,ub)"
   ]
  },
  {
   "cell_type": "markdown",
   "metadata": {},
   "source": [
    "# Advanced Problem Set( Optional )"
   ]
  },
  {
   "cell_type": "code",
   "execution_count": 33,
   "metadata": {},
   "outputs": [
    {
     "name": "stdout",
     "output_type": "stream",
     "text": [
      "1\n",
      "5\n",
      "30\n"
     ]
    }
   ],
   "source": [
    "# Function to calculate the average of all factorials in a given range\n",
    "def avgFactorial(lb,ub):\n",
    "    s = 0\n",
    "    c = 0\n",
    "    for i in range(lb,ub+1):\n",
    "        val =factorial(i)\n",
    "        #print(val)\n",
    "        s +=val\n",
    "        c +=1\n",
    "    return(s//c)\n",
    "        \n",
    "    \n",
    "lb = int(input())\n",
    "ub = int(input())\n",
    "print(avgFactorial(lb,ub))"
   ]
  },
  {
   "cell_type": "code",
   "execution_count": null,
   "metadata": {},
   "outputs": [],
   "source": [
    "# Function to generate N odd Armstrong numbers\n",
    "def isarmstrong(n):\n",
    "    s=0\n",
    "    temp = n\n",
    "    l = len(str(n))\n",
    "    while temp > 0:\n",
    "        digit = temp%10  # it gives the last digit\n",
    "        s += digit ** l\n",
    "        temp = n//10   # it gives the que\n",
    "    if (n == s):\n",
    "        return True\n",
    "    return False        \n",
    "def generateArmstrong(lb,ub):\n",
    "    for i in range(lb,ub):\n",
    "        if i % 2 !=0:\n",
    "            if isarmstrong(i):\n",
    "                print(i)\n",
    "    \n",
    "generateArmstrong(1,200)"
   ]
  },
  {
   "cell_type": "code",
   "execution_count": 2,
   "metadata": {},
   "outputs": [
    {
     "name": "stdout",
     "output_type": "stream",
     "text": [
      "2\n",
      "1\n",
      "10\n",
      "2 * 1 = 2\n",
      "2 * 2 = 4\n",
      "2 * 3 = 6\n",
      "2 * 4 = 8\n",
      "2 * 5 = 10\n",
      "2 * 6 = 12\n",
      "2 * 7 = 14\n",
      "2 * 8 = 16\n",
      "2 * 9 = 18\n",
      "2 * 10 = 20\n"
     ]
    }
   ],
   "source": [
    "#Function to generate Multiplication table for a number in a given range\n",
    "#10 in the range(100, 102) inclusive\n",
    "#10 x 100 = 1000\n",
    "#10 x 101 = 1010\n",
    "#10 x 102 = 1020\n",
    "\n",
    "n = int(input())\n",
    "lb = int(input())\n",
    "ub = int(input())\n",
    "for i in range(lb,ub+1):\n",
    "    print(\"{} * {} = {}\".format(n,i,n*i))\n",
    "\n",
    "    "
   ]
  },
  {
   "cell_type": "code",
   "execution_count": 5,
   "metadata": {},
   "outputs": [
    {
     "name": "stdout",
     "output_type": "stream",
     "text": [
      "10\n",
      "100\n",
      "105\n",
      "10 * 100 = 1000\n",
      "10 * 101 = 1010\n",
      "10 * 102 = 1020\n",
      "10 * 103 = 1030\n",
      "10 * 104 = 1040\n",
      "10 * 105 = 1050\n"
     ]
    }
   ],
   "source": [
    "n = int(input())\n",
    "lb = int(input())\n",
    "ub = int(input())\n",
    "for i in range(lb,ub+1):\n",
    "    print(\"{} * {} = {}\".format(n,i,n*i))\n",
    "    "
   ]
  },
  {
   "cell_type": "markdown",
   "metadata": {},
   "source": [
    "# Problems That needs a Try"
   ]
  },
  {
   "cell_type": "code",
   "execution_count": 7,
   "metadata": {},
   "outputs": [
    {
     "name": "stdout",
     "output_type": "stream",
     "text": [
      "hello world\n"
     ]
    },
    {
     "data": {
      "text/plain": [
       "'HELLO WORLD'"
      ]
     },
     "execution_count": 7,
     "metadata": {},
     "output_type": "execute_result"
    }
   ],
   "source": [
    "# You are given a string and your task is to swap cases.\n",
    "#In other words, convert all lowercase letters to uppercase letters and vice versa. \n",
    "#(The String may contain special characters).\n",
    "n = input()\n",
    "n.swapcase()\n"
   ]
  },
  {
   "cell_type": "code",
   "execution_count": null,
   "metadata": {},
   "outputs": [],
   "source": [
    "# Given an integer, ’n’ , perform the following conditional actions:\n"
   ]
  },
  {
   "cell_type": "code",
   "execution_count": 9,
   "metadata": {},
   "outputs": [
    {
     "name": "stdout",
     "output_type": "stream",
     "text": [
      "32\n",
      "46\n",
      "EXIT\n",
      "['32', '46']\n"
     ]
    },
    {
     "data": {
      "text/plain": [
       "46"
      ]
     },
     "execution_count": 9,
     "metadata": {},
     "output_type": "execute_result"
    }
   ],
   "source": [
    "l = []\n",
    "while True:\n",
    "    n = input()\n",
    "    if n == \"EXIT\":\n",
    "        break\n",
    "    elif int(n)%2==0:\n",
    "        l.append(int(n))\n",
    "#print(\" \".join(map(str,l)))\n",
    "print(list(map(str,l)))\n",
    "max(l)\n",
    "        \n"
   ]
  },
  {
   "cell_type": "code",
   "execution_count": null,
   "metadata": {},
   "outputs": [],
   "source": [
    "s= \"krish.edu.in\"\n"
   ]
  }
 ],
 "metadata": {
  "kernelspec": {
   "display_name": "Python 3",
   "language": "python",
   "name": "python3"
  },
  "language_info": {
   "codemirror_mode": {
    "name": "ipython",
    "version": 3
   },
   "file_extension": ".py",
   "mimetype": "text/x-python",
   "name": "python",
   "nbconvert_exporter": "python",
   "pygments_lexer": "ipython3",
   "version": "3.7.3"
  }
 },
 "nbformat": 4,
 "nbformat_minor": 2
}
