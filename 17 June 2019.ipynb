{
 "cells": [
  {
   "cell_type": "code",
   "execution_count": null,
   "metadata": {},
   "outputs": [],
   "source": [
    "# Roy Picture\n",
    "def royPicture(L,W,H):\n",
    "    \n",
    "    if W<L and H<L:\n",
    "        return \"UPLOAD ANOTHER\"\n",
    "    else:\n",
    "        if(W>L and H>L) and (W==H):\n",
    "            return \"ACCEPTED\"\n",
    "        else:\n",
    "            if W==L and H==L:\n",
    "        return \"CROP IT\"\n",
    "\n",
    "L=int(input())\n",
    "T=input()\n",
    "for i in range(int(T)):\n",
    "    WH=input().split()\n",
    "    W=int(WH[0])\n",
    "    H=int(WH[1])\n",
    "    print(royPicture(L,W,H))"
   ]
  },
  {
   "cell_type": "code",
   "execution_count": null,
   "metadata": {},
   "outputs": [],
   "source": [
    "##Duration\n",
    "def durationOfWork(sh,sm,eh,em):\n",
    "    a=sh+1\n",
    "    b=60-sm\n",
    "    c=0+em\n",
    "    if (a==eh and (b+c)<60):\n",
    "        print(0,b+c)\n",
    "    elif a==eh and (b+c)>60:\n",
    "        print(1,(b+c)-60)\n",
    "    else:\n",
    "        if (b+c)<60:\n",
    "            print(eh-a,b+c)\n",
    "        else:\n",
    "            print((eh-a)+1,(b+c)+60)\n",
    "                   \n",
    "N=int(input())\n",
    "for i in range (N):\n",
    "    h=input().split() # 2 44 3 44\n",
    "    sh=int(h[0])\n",
    "    sm=int(h[1])\n",
    "    eh=int(h[2])\n",
    "    em=int(h[3])\n",
    "    durationOfWork(sh,sm,eh,em)"
   ]
  },
  {
   "cell_type": "code",
   "execution_count": null,
   "metadata": {},
   "outputs": [],
   "source": [
    "'''The book has a special ISBN(International Standard Book Number) which is  unique numeric book identifier only for Voldemort's book printed on it. The ISBN is based upon a 10-digit code. The ISBN is valid if:\n",
    "1xdigit1 + 2xdigit2 + 3xdigit3 + 4xdigit4 + 5xdigit5 + 6xdigit6 + 7xdigit7 + 8xdigit8 + 9xdigit9 + 10xdigit10 is divisible by 11.\n",
    "'''\n",
    "def findBookOfPotionMaking(s):\n",
    "    summ=0\n",
    "    i=1\n",
    "    for cr in s:\n",
    "        value=int(cr)*i\n",
    "        summ += value\n",
    "        i+=1\n",
    "    if summ%11==0:\n",
    "        print(\"Legal ISBN\")\n",
    "    else:\n",
    "        print(\"Illegal ISBN\")\n",
    "s=input()\n",
    "findBookOfPotionMaking(s)"
   ]
  },
  {
   "cell_type": "code",
   "execution_count": null,
   "metadata": {},
   "outputs": [],
   "source": []
  },
  {
   "cell_type": "code",
   "execution_count": null,
   "metadata": {},
   "outputs": [],
   "source": []
  },
  {
   "cell_type": "code",
   "execution_count": null,
   "metadata": {},
   "outputs": [],
   "source": []
  }
 ],
 "metadata": {
  "kernelspec": {
   "display_name": "Python 3",
   "language": "python",
   "name": "python3"
  },
  "language_info": {
   "codemirror_mode": {
    "name": "ipython",
    "version": 3
   },
   "file_extension": ".py",
   "mimetype": "text/x-python",
   "name": "python",
   "nbconvert_exporter": "python",
   "pygments_lexer": "ipython3",
   "version": "3.7.3"
  }
 },
 "nbformat": 4,
 "nbformat_minor": 2
}
