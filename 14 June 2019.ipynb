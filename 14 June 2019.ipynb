{
 "cells": [
  {
   "cell_type": "code",
   "execution_count": null,
   "metadata": {},
   "outputs": [],
   "source": []
  },
  {
   "cell_type": "markdown",
   "metadata": {},
   "source": [
    "# Python Data Structures\n",
    "### Lists"
   ]
  },
  {
   "cell_type": "code",
   "execution_count": 150,
   "metadata": {},
   "outputs": [
    {
     "data": {
      "text/plain": [
       "[3, 12, 123, 230, 345, 654, 900]"
      ]
     },
     "execution_count": 150,
     "metadata": {},
     "output_type": "execute_result"
    }
   ],
   "source": [
    "li=[123,978,654]\n",
    "li  ## Access the entire list\n",
    "li[1] ## Acc an element with index in a list\n",
    "li[1:]\n",
    "li[::-1] # list in reverse\n",
    "li[1:-1]  #access the lindex velue of 1\n",
    "li=li[::-1] #Reverses the list\n",
    "li\n",
    "li=li[::-1] # original set\n",
    "li\n",
    "li[::2] #even index elements\n",
    "li[1::2]  # odd index elements\n",
    "# list can be accessed ,manipulated in two ways\n",
    "# Direct referncing--- acc data with [index]\n",
    "# indurect referencing--through function\n",
    "li.append(345)\n",
    "li\n",
    "li.insert(1,230)\n",
    "li\n",
    "li.sort() # sorting the data\n",
    "li\n",
    "# remove the last element in a list\n",
    "li.pop(4)## it removes the last element and returnes that element\n",
    "li\n",
    "li2=[12,3,45,900]\n",
    "li2\n",
    "# Merge List 2 into list 1\n",
    "li2.extend(li)\n",
    "li2\n",
    "li2.sort()\n",
    "li2\n",
    "li2.pop(1)\n",
    "li2\n",
    "li2.insert(1,12)\n",
    "li2\n",
    "sum(li2)\n",
    "max(li2)\n",
    "len(li2)\n",
    "li2.pop(2)\n",
    "sum(li2)\n",
    "len(li2)\n",
    "# averege of list of elements\n",
    "dir(li)\n",
    "sum(li2)//len(li2)\n",
    "\n",
    "sum(li2[::2])//len(li2[::2])\n",
    "sum(li2[1::2])//len(li2[1::2])\n",
    "li2.append(123)\n",
    "li2.append(123)\n",
    "li2.pop(-1)\n",
    "li2\n",
    "li2.pop(-1)\n",
    "li2\n",
    "li2\n"
   ]
  },
  {
   "cell_type": "code",
   "execution_count": 80,
   "metadata": {},
   "outputs": [
    {
     "data": {
      "text/plain": [
       "345"
      ]
     },
     "execution_count": 80,
     "metadata": {},
     "output_type": "execute_result"
    }
   ],
   "source": [
    "# Identify the second largest number\n",
    "def secondMax(li2):\n",
    "    li2.sort()\n",
    "    return li2[-3]\n",
    "secondMax(li2)\n",
    "\n",
    "\n",
    "#secondMax(li[2])\n",
    "## sort the data in reverse order,and select the\n",
    "# remove the max element and then get the max element"
   ]
  },
  {
   "cell_type": "code",
   "execution_count": 125,
   "metadata": {},
   "outputs": [
    {
     "data": {
      "text/plain": [
       "123"
      ]
     },
     "execution_count": 125,
     "metadata": {},
     "output_type": "execute_result"
    }
   ],
   "source": [
    "def g_max(li2,n):## sort the data in reverse order,and select the \n",
    "    li2.sort()\n",
    "    return li2[-n]\n",
    "g_max(li2,1)"
   ]
  },
  {
   "cell_type": "code",
   "execution_count": 101,
   "metadata": {},
   "outputs": [
    {
     "data": {
      "text/plain": [
       "230"
      ]
     },
     "execution_count": 101,
     "metadata": {},
     "output_type": "execute_result"
    }
   ],
   "source": [
    "def genericMax(li2,n):\n",
    "    return sorted(set(li2))[-n]\n",
    "genericMax(li2,4)"
   ]
  },
  {
   "cell_type": "code",
   "execution_count": 168,
   "metadata": {},
   "outputs": [
    {
     "data": {
      "text/plain": [
       "2"
      ]
     },
     "execution_count": 168,
     "metadata": {},
     "output_type": "execute_result"
    }
   ],
   "source": [
    "# Function to search for data in a list\n",
    "# Search for thr key in the list and return the index\n",
    "def linearSearch(li2,key):\n",
    "    for index in range (0,len(li2)):\n",
    "        if index==key:\n",
    "            return index\n",
    "        return -1\n",
    "linearSearch(li2,123)\n",
    "\n",
    "def linSear2(li2,key):\n",
    "    for element in(li2):\n",
    "        if element==key:\n",
    "            return li2.index(element)\n",
    "    return \n",
    "linSear2(li2,123)\n",
    "    \n",
    "    "
   ]
  },
  {
   "cell_type": "code",
   "execution_count": 204,
   "metadata": {},
   "outputs": [
    {
     "data": {
      "text/plain": [
       "4"
      ]
     },
     "execution_count": 204,
     "metadata": {},
     "output_type": "execute_result"
    }
   ],
   "source": [
    "# Function to count the occurances of a character in \n",
    "# python programming-  m-->2\n",
    "\n",
    "\n",
    "\n",
    "\n",
    "def countOccurances2(s,c):\n",
    "    return s.count(c)\n",
    "countOccurances2(\"Python Pyogramming\",\"Py\")\n",
    "\n",
    "def countOfOccurances(s,c):\n",
    "    count=0\n",
    "    for ch in s:\n",
    "        if ch==c:\n",
    "            count=count+1\n",
    "    return count\n",
    "countOfOccurances(\"ssdbvd\",\"s\")\n",
    "\n",
    "def countOccurances2(s,c):\n",
    "    return s.count(c)\n",
    "countOccurances2(\"Python programming\",\"Py\")\n",
    "\n",
    "def numOfOccurances( s,c): # number of occurances of ab in a given string(aabcabcddcbaaaaaaa)\n",
    "    return s.count(c)\n",
    "numOfOccurances(\"aabcabcddcbaaaaaaa\",\"aa\")\n",
    "    \n",
    "    \n"
   ]
  },
  {
   "cell_type": "code",
   "execution_count": 2,
   "metadata": {},
   "outputs": [
    {
     "data": {
      "text/plain": [
       "[1, 2, 3, 4, 5, 67]"
      ]
     },
     "execution_count": 2,
     "metadata": {},
     "output_type": "execute_result"
    }
   ],
   "source": [
    "s= \"1 2 3 4 5 67\"\n",
    "s\n",
    "li=s.split()\n",
    "numberList=[]\n",
    "for i in li:\n",
    "    numberList.append(int(i))\n",
    "numberList"
   ]
  },
  {
   "cell_type": "code",
   "execution_count": null,
   "metadata": {},
   "outputs": [],
   "source": []
  }
 ],
 "metadata": {
  "kernelspec": {
   "display_name": "Python 3",
   "language": "python",
   "name": "python3"
  },
  "language_info": {
   "codemirror_mode": {
    "name": "ipython",
    "version": 3
   },
   "file_extension": ".py",
   "mimetype": "text/x-python",
   "name": "python",
   "nbconvert_exporter": "python",
   "pygments_lexer": "ipython3",
   "version": "3.7.3"
  }
 },
 "nbformat": 4,
 "nbformat_minor": 2
}
